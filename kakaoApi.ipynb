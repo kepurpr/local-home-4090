{
 "cells": [
  {
   "cell_type": "code",
   "execution_count": 115,
   "id": "655089c9-8437-4968-b45c-eba523459ba7",
   "metadata": {
    "tags": []
   },
   "outputs": [],
   "source": [
    "from PyKakao import Message\n",
    "import requests\n",
    "import webbrowser\n",
    "\n",
    "rest_api = 'c7331f1eedd34ad746c501eb91d59e1f'\n",
    "redirect_url = 'https://localhost:5000'\n",
    "token_url = 'https://kauth.kakao.com/oauth/token'"
   ]
  },
  {
   "cell_type": "code",
   "execution_count": 117,
   "id": "b6a0995d-b0eb-41fa-a46b-8bd5d239dcc0",
   "metadata": {
    "tags": []
   },
   "outputs": [
    {
     "data": {
      "text/plain": [
       "True"
      ]
     },
     "execution_count": 117,
     "metadata": {},
     "output_type": "execute_result"
    }
   ],
   "source": [
    "auth_url = f'https://kauth.kakao.com/oauth/authorize?response_type=code&client_id={rest_api}&redirect_uri={redirect_url}'\n",
    "webbrowser.open(auth_url)"
   ]
  },
  {
   "cell_type": "code",
   "execution_count": 119,
   "id": "f6f71353-c608-48cf-8e68-dfbc21c7a537",
   "metadata": {
    "tags": []
   },
   "outputs": [],
   "source": [
    "# 열린 주소에서 code = {} 값 입력\n",
    "auth_code = '7nI-RaZXErBXZoK7WiFfLMnwXHRnQOxtcWJ_23xGL46Us16f1w4HVhHI7WkKKwynAAABjyxiLRz7Ewsnpgvovw'"
   ]
  },
  {
   "cell_type": "code",
   "execution_count": 121,
   "id": "712b1ead-dd53-4731-8249-7d41b5df66ec",
   "metadata": {
    "tags": []
   },
   "outputs": [
    {
     "name": "stdout",
     "output_type": "stream",
     "text": [
      "{'access_token': 'PvsI0DTSB8frlZIqOWQh6_xYByr5dMDGHw8KPXSZAAABjyxib-HRDLJpR7eCqA', 'token_type': 'bearer', 'refresh_token': 'zdPP2IUNEUCkfNqtE9Ux6OX0e5FRsNmXZ-QKPXSZAAABjyxib93RDLJpR7eCqA', 'expires_in': 21599, 'scope': 'talk_message', 'refresh_token_expires_in': 5183999}\n"
     ]
    }
   ],
   "source": [
    "auth_data = {\n",
    "    'grant_type' : 'authorization_code',\n",
    "    'client_id' : rest_api,\n",
    "    'redirect_url' : redirect_url,\n",
    "    'code' : auth_code\n",
    "}\n",
    "\n",
    "auth_response = requests.post(token_url,data=auth_data)\n",
    "tokens = auth_response.json()\n",
    "print(tokens)"
   ]
  },
  {
   "cell_type": "code",
   "execution_count": 125,
   "id": "a0c5a696-1f83-400e-8ded-0571ab276915",
   "metadata": {
    "tags": []
   },
   "outputs": [
    {
     "name": "stdout",
     "output_type": "stream",
     "text": [
      "PvsI0DTSB8frlZIqOWQh6_xYByr5dMDGHw8KPXSZAAABjyxib-HRDLJpR7eCqA\n",
      "zdPP2IUNEUCkfNqtE9Ux6OX0e5FRsNmXZ-QKPXSZAAABjyxib93RDLJpR7eCqA\n"
     ]
    }
   ],
   "source": [
    "print(tokens['access_token'])\n",
    "print(tokens['refresh_token'])"
   ]
  },
  {
   "cell_type": "code",
   "execution_count": 137,
   "id": "3d0a751d-9987-4897-a824-fcfd0991b31f",
   "metadata": {
    "tags": []
   },
   "outputs": [
    {
     "name": "stdout",
     "output_type": "stream",
     "text": [
      "PvsI0DTSB8frlZIqOWQh6_xYByr5dMDGHw8KPXSZAAABjyxib-HRDLJpR7eCqA\n"
     ]
    }
   ],
   "source": [
    "init_token = tokens['access_token']\n",
    "token_info_url = \"https://kapi.kakao.com/v1/user/access_token_info\"\n",
    "token_info_headers = {\n",
    "        \"Authorization\": \"Bearer \" + init_token\n",
    "    }\n",
    "toke_info_response = requests.get(token_info_url, headers=token_info_headers)\n",
    "\n",
    "if toke_info_response.status_code==200:\n",
    "    # 아직 유효\n",
    "    print(init_token)\n",
    "    valid_access_token= init_token"
   ]
  },
  {
   "cell_type": "code",
   "execution_count": 139,
   "id": "672ff45d-b973-446b-9010-09d021fee87c",
   "metadata": {
    "tags": []
   },
   "outputs": [
    {
     "name": "stdout",
     "output_type": "stream",
     "text": [
      "액세스 토큰 설정 완료\n",
      "메시지 전송 성공\n"
     ]
    }
   ],
   "source": [
    "api = Message(service_key  = rest_api)\n",
    "api.set_access_token(valid_access_token)\n",
    "message_type = \"text\"\n",
    "type_contents=1\n",
    "if type_contents:\n",
    "    # 파라미터\n",
    "    text = f\"SRT 등록 완료 by 남기원\"\n",
    "    link = {\n",
    "                \"web_url\": \"https://developers.kakao.com\",\n",
    "                \"mobile_web_url\": \"https://developers.kakao.com\"\n",
    "            }\n",
    "    button_title = \"바로 확인\"\n",
    "else:\n",
    "    text = f\"매크로 체크용\"\n",
    "    link = {\n",
    "                \"web_url\": \"https://developers.kakao.com\",\n",
    "                \"mobile_web_url\": \"https://developers.kakao.com\"\n",
    "            }\n",
    "    button_title = \"바로 확인\"\n",
    "\n",
    "api.send_message_to_me(\n",
    "    message_type=message_type, \n",
    "    text=text,\n",
    "    link=link,\n",
    "    button_title=button_title,\n",
    ")  \n"
   ]
  },
  {
   "cell_type": "code",
   "execution_count": 141,
   "id": "5a804d5a-e6b5-4687-9ec9-b7c6940af115",
   "metadata": {
    "tags": []
   },
   "outputs": [
    {
     "data": {
      "text/plain": [
       "'PvsI0DTSB8frlZIqOWQh6_xYByr5dMDGHw8KPXSZAAABjyxib-HRDLJpR7eCqA'"
      ]
     },
     "execution_count": 141,
     "metadata": {},
     "output_type": "execute_result"
    }
   ],
   "source": [
    "valid_access_token"
   ]
  }
 ],
 "metadata": {
  "kernelspec": {
   "display_name": "Python 3 (ipykernel)",
   "language": "python",
   "name": "python3"
  },
  "language_info": {
   "codemirror_mode": {
    "name": "ipython",
    "version": 3
   },
   "file_extension": ".py",
   "mimetype": "text/x-python",
   "name": "python",
   "nbconvert_exporter": "python",
   "pygments_lexer": "ipython3",
   "version": "3.11.5"
  }
 },
 "nbformat": 4,
 "nbformat_minor": 5
}
