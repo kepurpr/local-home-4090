{
 "cells": [
  {
   "cell_type": "code",
   "execution_count": 1,
   "id": "655089c9-8437-4968-b45c-eba523459ba7",
   "metadata": {
    "tags": []
   },
   "outputs": [],
   "source": [
    "from PyKakao import Message\n",
    "import requests\n",
    "import webbrowser\n",
    "\n",
    "rest_api = 'c7331f1eedd34ad746c501eb91d59e1f'\n",
    "redirect_url = 'https://localhost:5000'\n",
    "token_url = 'https://kauth.kakao.com/oauth/token'"
   ]
  },
  {
   "cell_type": "code",
   "execution_count": 14,
   "id": "b6a0995d-b0eb-41fa-a46b-8bd5d239dcc0",
   "metadata": {
    "tags": []
   },
   "outputs": [
    {
     "data": {
      "text/plain": [
       "True"
      ]
     },
     "execution_count": 14,
     "metadata": {},
     "output_type": "execute_result"
    }
   ],
   "source": [
    "## 나에게 보내기용\n",
    "# auth_url = f'https://kauth.kakao.com/oauth/authorize?response_type=code&client_id={rest_api}&redirect_uri={redirect_url}'\n",
    "## 친구한테 보내기용\n",
    "auth_url = f'https://kauth.kakao.com/oauth/authorize?client_id={rest_api}&redirect_uri={redirect_url}&response_type=code&scope=talk_message,friends'\n",
    "webbrowser.open(auth_url)"
   ]
  },
  {
   "cell_type": "code",
   "execution_count": 15,
   "id": "f6f71353-c608-48cf-8e68-dfbc21c7a537",
   "metadata": {
    "tags": []
   },
   "outputs": [],
   "source": [
    "# 열린 주소에서 code = {} 값 입력\n",
    "auth_code = 'Fhr85BKuJZAxU5nSQebP2U0BVBhi_dnC45hh9TEU6g0b5aORUfugoAAAAAQKKw0gAAABkz8RMFWoblpFv_zasg'"
   ]
  },
  {
   "cell_type": "code",
   "execution_count": 16,
   "id": "712b1ead-dd53-4731-8249-7d41b5df66ec",
   "metadata": {
    "tags": []
   },
   "outputs": [
    {
     "name": "stdout",
     "output_type": "stream",
     "text": [
      "{'access_token': 'TdQhopBFCcoQwo4P6pq_87SL2J7olYTtAAAAAQo9dBEAAAGTPxGDQNEMsmlHt4Ko', 'token_type': 'bearer', 'refresh_token': 'BFerV5e1WZUhSDK0jNgQ7mua5i5HRYeVAAAAAgo9dBEAAAGTPxGDPdEMsmlHt4Ko', 'expires_in': 21599, 'scope': 'talk_message friends', 'refresh_token_expires_in': 5183999}\n"
     ]
    }
   ],
   "source": [
    "auth_data = {\n",
    "    'grant_type' : 'authorization_code',\n",
    "    'client_id' : rest_api,\n",
    "    'redirect_url' : redirect_url,\n",
    "    'code' : auth_code\n",
    "}\n",
    "\n",
    "auth_response = requests.post(token_url,data=auth_data)\n",
    "tokens = auth_response.json()\n",
    "print(tokens)"
   ]
  },
  {
   "cell_type": "code",
   "execution_count": 5,
   "id": "a0c5a696-1f83-400e-8ded-0571ab276915",
   "metadata": {
    "tags": []
   },
   "outputs": [
    {
     "name": "stdout",
     "output_type": "stream",
     "text": [
      "GJCcB9q7J9WuOBWwU4DPjUMN2IOwW2zMAAAAAQorDNIAAAGTPw8rmtEMsmlHt4Ko\n",
      "AmigbVWvdM-pMDqGIfn0rB1IMvi2KrWuAAAAAgorDNIAAAGTPw8rl9EMsmlHt4Ko\n"
     ]
    }
   ],
   "source": [
    "print(tokens['access_token'])\n",
    "print(tokens['refresh_token'])"
   ]
  },
  {
   "cell_type": "code",
   "execution_count": 38,
   "id": "78e0f522-71d0-42f4-8378-c3c813f0e307",
   "metadata": {
    "tags": []
   },
   "outputs": [
    {
     "name": "stdout",
     "output_type": "stream",
     "text": [
      "{'access_token': '9nnH_lIOPd4RdjRa-uecnsNlhKPAqD9vAAAAAQo9cpcAAAGSGKPUaLZbzBbpXusm', 'token_type': 'bearer', 'expires_in': 21599}\n"
     ]
    }
   ],
   "source": [
    "# 카카오톡 메시지 토큰 갱신 API\n",
    "re_auth_data = {\n",
    "    \"grant_type\": \"refresh_token\",\n",
    "    \"client_id\": rest_api,\n",
    "    \"refresh_token\": tokens['refresh_token']\n",
    "}\n",
    "re_auth_response = requests.post(token_url, data=re_auth_data)\n",
    "re_tokens = re_auth_response.json()\n",
    "print(re_tokens)\n",
    "print(re_tokens['access_token']"
   ]
  },
  {
   "cell_type": "code",
   "execution_count": 40,
   "id": "4abdc1da-d871-4196-9ecd-a215dfcc6de2",
   "metadata": {
    "tags": []
   },
   "outputs": [
    {
     "name": "stdout",
     "output_type": "stream",
     "text": [
      "9nnH_lIOPd4RdjRa-uecnsNlhKPAqD9vAAAAAQo9cpcAAAGSGKPUaLZbzBbpXusm\n"
     ]
    }
   ],
   "source": [
    "print(re_tokens['access_token'])"
   ]
  },
  {
   "cell_type": "code",
   "execution_count": 18,
   "id": "bb00d0ab-383d-407b-84e0-e335797467ab",
   "metadata": {
    "tags": []
   },
   "outputs": [
    {
     "name": "stdout",
     "output_type": "stream",
     "text": [
      "[{'profile_nickname': '남기원 테스트', 'profile_thumbnail_image': '', 'allowed_msg': True, 'id': 3715529406, 'uuid': 'NwU9DDgKPgo4CSURIxMlEisbKBk1BDQCOg00AE8', 'favorite': False}]\n"
     ]
    }
   ],
   "source": [
    "url = \"https://kapi.kakao.com/v1/api/talk/friends\" #친구 목록 가져오기\n",
    "header = {\"Authorization\": 'Bearer ' + tokens[\"access_token\"]}\n",
    "result = requests.get(url, headers=header)\n",
    "\n",
    "friends_data = result.json()\n",
    "\n",
    "# 친구 목록 출력\n",
    "if 'elements' in friends_data:\n",
    "    friends_list = friends_data['elements']\n",
    "    print(friends_list)\n",
    "else:\n",
    "    print(\"친구 목록을 가져오지 못했습니다.\", friends_data)"
   ]
  },
  {
   "cell_type": "code",
   "execution_count": 16,
   "id": "b24abe32-c7ea-48c8-a2a3-d03a5385ad5e",
   "metadata": {
    "tags": []
   },
   "outputs": [
    {
     "data": {
      "text/plain": [
       "'NwU9DDgKPgo4CSURIxMlEisbKBk1BDQCOg00AE8'"
      ]
     },
     "execution_count": 16,
     "metadata": {},
     "output_type": "execute_result"
    }
   ],
   "source": [
    "friends_list[0]['uuid']"
   ]
  },
  {
   "cell_type": "code",
   "execution_count": 19,
   "id": "6118a00f-34a5-4261-844e-ec856ddeb960",
   "metadata": {
    "tags": []
   },
   "outputs": [
    {
     "data": {
      "text/plain": [
       "'DD_TAxWYOFMgYcp5ObFHmEsDe1Fv0XgvAAAAAQorDKcAAAGTPwiPddEMsmlHt4Ko'"
      ]
     },
     "execution_count": 19,
     "metadata": {},
     "output_type": "execute_result"
    }
   ],
   "source": [
    "access_token = tokens['access_token']\n",
    "access_token"
   ]
  },
  {
   "cell_type": "code",
   "execution_count": 21,
   "id": "2d5f39a1-1b8c-412d-b852-d3b3d388a01e",
   "metadata": {
    "tags": []
   },
   "outputs": [
    {
     "name": "stdout",
     "output_type": "stream",
     "text": [
      "액세스 토큰 설정 완료\n",
      "메시지 전송 실패\n",
      "400 Client Error: Bad Request for url: https://kapi.kakao.com/v1/api/talk/friends/message/default/send\n"
     ]
    }
   ],
   "source": [
    "## 카톡 보내기 (친구)\n",
    "api = Message(service_key  = rest_api)\n",
    "api.set_access_token(access_token)\n",
    "# api.set_access_token(valid_access_token)\n",
    "message_type = \"text\"\n",
    "\n",
    "# UUID 목록\n",
    "receiver_uuids = [\n",
    "    \"NwU9DDgKPgo4CSURIxMlEisbKBk1BDQCOg00AE8\", \n",
    "]\n",
    "\n",
    "text = f\"매크로 체크용_친구한테\"\n",
    "link = {\n",
    "            \"web_url\": \"https://developers.kakao.com\",\n",
    "            \"mobile_web_url\": \"https://developers.kakao.com\"\n",
    "        }\n",
    "button_title = \"바로 확인\"\n",
    "\n",
    "api.send_message_to_friend(\n",
    "    message_type=message_type, \n",
    "    receiver_uuids=receiver_uuids,\n",
    "    text=text,\n",
    "    link=link,\n",
    "    button_title=button_title,\n",
    ")"
   ]
  },
  {
   "cell_type": "code",
   "execution_count": 11,
   "id": "b41e2fa2-ab6d-4075-bcaa-a8876c455f81",
   "metadata": {
    "tags": []
   },
   "outputs": [],
   "source": [
    "access_token = 'GJCcB9q7J9WuOBWwU4DPjUMN2IOwW2zMAAAAAQorDNIAAAGTPw8rmtEMsmlHt4Ko'"
   ]
  },
  {
   "cell_type": "markdown",
   "id": "6dd376dc-065d-4757-a084-7649cbc460c4",
   "metadata": {
    "tags": []
   },
   "source": [
    "## 2달간 작동 가능한 코드"
   ]
  },
  {
   "cell_type": "code",
   "execution_count": 12,
   "id": "8940a007-f92c-4921-919c-06a2256e5ea1",
   "metadata": {
    "tags": []
   },
   "outputs": [
    {
     "name": "stdout",
     "output_type": "stream",
     "text": [
      "{'error': 'invalid_grant', 'error_description': 'authorization code not found for code=GXlGP5RszAjfAghZ_p4kFCygKXJHEjdQ2u8-FzbEwytpsCRbDkN5NgAAAAQKKwzSAAABkz8O3xLNsk3jZ7dWzg', 'error_code': 'KOE320'}\n"
     ]
    }
   ],
   "source": [
    "from PyKakao import Message\n",
    "import requests\n",
    "import webbrowser\n",
    "\n",
    "rest_api = 'c7331f1eedd34ad746c501eb91d59e1f'\n",
    "redirect_url = 'https://localhost:5000'\n",
    "token_url = 'https://kauth.kakao.com/oauth/token'\n",
    "\n",
    "## 나에게 보내기용\n",
    "## auth_url = f'https://kauth.kakao.com/oauth/authorize?response_type=code&client_id={rest_api}&redirect_uri={redirect_url}'\n",
    "## 친구한테 보내기용\n",
    "##auth_url = f'https://kauth.kakao.com/oauth/authorize?client_id={rest_api}&redirect_uri={redirect_url}&response_type=code&scope=talk_message,friends'\n",
    "## webbrowser.open(auth_url)\n",
    "\n",
    "# 열린 주소에서 code = {} 값 입력\n",
    "auth_code = 'GXlGP5RszAjfAghZ_p4kFCygKXJHEjdQ2u8-FzbEwytpsCRbDkN5NgAAAAQKKwzSAAABkz8O3xLNsk3jZ7dWzg'\n",
    "auth_data = {\n",
    "    'grant_type' : 'authorization_code',\n",
    "    'client_id' : rest_api,\n",
    "    'redirect_url' : redirect_url,\n",
    "    'code' : auth_code\n",
    "}\n",
    "auth_response = requests.post(token_url,data=auth_data)\n",
    "tokens = auth_response.json()\n",
    "print(tokens)\n"
   ]
  },
  {
   "cell_type": "code",
   "execution_count": 9,
   "id": "5ca425d9-611a-431b-a62e-a10833704c36",
   "metadata": {
    "tags": []
   },
   "outputs": [
    {
     "ename": "KeyError",
     "evalue": "'access_token'",
     "output_type": "error",
     "traceback": [
      "\u001b[1;31m---------------------------------------------------------------------------\u001b[0m",
      "\u001b[1;31mKeyError\u001b[0m                                  Traceback (most recent call last)",
      "Cell \u001b[1;32mIn[9], line 1\u001b[0m\n\u001b[1;32m----> 1\u001b[0m tokens[\u001b[38;5;124m'\u001b[39m\u001b[38;5;124maccess_token\u001b[39m\u001b[38;5;124m'\u001b[39m]\n",
      "\u001b[1;31mKeyError\u001b[0m: 'access_token'"
     ]
    }
   ],
   "source": [
    "print(tokens['access_token'])\n",
    "print(tokens['refresh_token'])"
   ]
  },
  {
   "cell_type": "code",
   "execution_count": 17,
   "id": "92f022fa-740e-4110-9895-e2ab5fafef3d",
   "metadata": {},
   "outputs": [
    {
     "name": "stdout",
     "output_type": "stream",
     "text": [
      "{'access_token': 'TdQhopBFCcoQwo4P6pq_87SL2J7olYTtAAAAAQo9dBEAAAGTPxGDQNEMsmlHt4Ko', 'token_type': 'bearer', 'refresh_token': 'BFerV5e1WZUhSDK0jNgQ7mua5i5HRYeVAAAAAgo9dBEAAAGTPxGDPdEMsmlHt4Ko', 'expires_in': 21599, 'scope': 'talk_message friends', 'refresh_token_expires_in': 5183999}\n",
      "액세스 토큰 설정 완료\n",
      "메시지 전송 실패\n",
      "400 Client Error: Bad Request for url: https://kapi.kakao.com/v1/api/talk/friends/message/default/send\n"
     ]
    }
   ],
   "source": [
    "api = Message(service_key  = rest_api)\n",
    "\n",
    "# 만료 체크\n",
    "if auth_response.status_code==401:\n",
    "    \n",
    "    # 카카오톡 메시지 토큰 갱신 API\n",
    "    re_auth_data = {\n",
    "        \"grant_type\": \"refresh_token\",\n",
    "        \"client_id\": rest_api,\n",
    "        \"refresh_token\": tokens['refresh_token']\n",
    "    }\n",
    "    re_auth_response = requests.post(token_url, data=re_auth_data)\n",
    "    re_tokens = re_auth_response.json()\n",
    "    print(re_tokens)\n",
    "    access_token = re_tokens['access_token']\n",
    "else:\n",
    "    print(tokens)\n",
    "    access_token = tokens['access_token']\n",
    "\n",
    "api.set_access_token(access_token)\n",
    "\n",
    "message_type = \"text\"\n",
    "\n",
    "# UUID 목록\n",
    "receiver_uuids = [\n",
    "    \"NwM0ADkBMgQ1GSoYLxYuGCEYNAU1AzsMNQFJ\", \n",
    "]\n",
    "\n",
    "text = f\"매크로 체크용_친구한테\"\n",
    "link = {\n",
    "            \"web_url\": \"https://developers.kakao.com\",\n",
    "            \"mobile_web_url\": \"https://developers.kakao.com\"\n",
    "        }\n",
    "button_title = \"바로 확인\"\n",
    "\n",
    "api.send_message_to_friend(\n",
    "    message_type=message_type, \n",
    "    receiver_uuids=receiver_uuids,\n",
    "    text=text,\n",
    "    link=link,\n",
    "    button_title=button_title,\n",
    ")"
   ]
  },
  {
   "cell_type": "code",
   "execution_count": null,
   "id": "526f0612-317a-4038-9cb0-49c674cb9fd1",
   "metadata": {},
   "outputs": [],
   "source": []
  }
 ],
 "metadata": {
  "kernelspec": {
   "display_name": "Python 3 (ipykernel)",
   "language": "python",
   "name": "python3"
  },
  "language_info": {
   "codemirror_mode": {
    "name": "ipython",
    "version": 3
   },
   "file_extension": ".py",
   "mimetype": "text/x-python",
   "name": "python",
   "nbconvert_exporter": "python",
   "pygments_lexer": "ipython3",
   "version": "3.11.5"
  }
 },
 "nbformat": 4,
 "nbformat_minor": 5
}
