{
 "cells": [
  {
   "cell_type": "code",
   "execution_count": 2,
   "id": "3fc5d289-3de7-40aa-bc63-da9edff008e1",
   "metadata": {
    "tags": []
   },
   "outputs": [
    {
     "name": "stdout",
     "output_type": "stream",
     "text": [
      "Defaulting to user installation because normal site-packages is not writeable\n",
      "Requirement already satisfied: pycaw in c:\\users\\administrator\\appdata\\roaming\\python\\python311\\site-packages (20240210)\n",
      "Requirement already satisfied: comtypes in c:\\users\\administrator\\appdata\\roaming\\python\\python311\\site-packages (from pycaw) (1.4.8)\n",
      "Requirement already satisfied: psutil in c:\\programdata\\anaconda3\\lib\\site-packages (from pycaw) (5.9.0)\n"
     ]
    }
   ],
   "source": [
    "!pip install pycaw"
   ]
  },
  {
   "cell_type": "code",
   "execution_count": 6,
   "id": "9ff7f3e2-8e56-4c8a-afff-6f869a0f45a4",
   "metadata": {
    "tags": []
   },
   "outputs": [],
   "source": [
    "from pycaw.pycaw import AudioUtilities, IAudioEndpointVolume\n",
    "from comtypes import CLSCTX_ALL\n",
    "import time\n",
    "\n",
    "def set_system_volume(max_volume=True):\n",
    "    # 현재 오디오 장치를 가져옴\n",
    "    devices = AudioUtilities.GetSpeakers()\n",
    "    interface = devices.Activate(\n",
    "        IAudioEndpointVolume._iid_, CLSCTX_ALL, None)\n",
    "    volume = interface.QueryInterface(IAudioEndpointVolume)\n",
    "    \n",
    "    if max_volume:\n",
    "        # 현재 볼륨 저장\n",
    "        current_volume = volume.GetMasterVolumeLevelScalar()\n",
    "        print(f\"Current Volume: {current_volume * 100:.0f}%\")\n",
    "        \n",
    "        # 볼륨을 100%로 설정\n",
    "        volume.SetMasterVolumeLevelScalar(0.1, None)\n",
    "        print(\"Volume set to 100%.\")\n",
    "        return current_volume\n",
    "    else:\n",
    "        # 볼륨 복원\n",
    "        volume.SetMasterVolumeLevelScalar(0.5, None)\n",
    "        print(\"Volume restored to 50%.\")"
   ]
  },
  {
   "cell_type": "code",
   "execution_count": null,
   "id": "c3bb1039-c370-4835-be4d-27034f668785",
   "metadata": {},
   "outputs": [],
   "source": [
    "saved_volume = set_system_volume(max_volume=True)\n",
    "\n",
    "# 몇 초 후 이전 볼륨으로 복원\n",
    "time.sleep(2)  # 5초 대기\n",
    "set_system_volume(max_volume=False)"
   ]
  },
  {
   "cell_type": "code",
   "execution_count": 9,
   "id": "d29a6c1d-2911-4d56-aaf4-6dff6219e316",
   "metadata": {
    "tags": []
   },
   "outputs": [],
   "source": [
    "from pycaw.pycaw import AudioUtilities, IAudioEndpointVolume\n",
    "from comtypes import CLSCTX_ALL\n",
    "import time\n",
    "\n",
    "def manage_volume(mode=\"set_max\", saved_volume=None):\n",
    "    \"\"\"\n",
    "    시스템 볼륨을 관리하는 함수.\n",
    "\n",
    "    Args:\n",
    "        mode (str): \"set_max\" -> 볼륨을 100%로 설정, \"restore\" -> 이전 볼륨으로 복원.\n",
    "        saved_volume (float): 이전 볼륨 값을 저장하는 변수 (0.0 ~ 1.0 범위).\n",
    "    \n",
    "    Returns:\n",
    "        float: 현재 볼륨 (mode=\"set_max\"에서 저장된 볼륨 반환).\n",
    "    \"\"\"\n",
    "    # 현재 오디오 장치를 가져옴\n",
    "    devices = AudioUtilities.GetSpeakers()\n",
    "    interface = devices.Activate(\n",
    "        IAudioEndpointVolume._iid_, CLSCTX_ALL, None)\n",
    "    volume = interface.QueryInterface(IAudioEndpointVolume)\n",
    "    \n",
    "    if mode == \"set_max\":\n",
    "        # 현재 볼륨 저장\n",
    "        current_volume = volume.GetMasterVolumeLevelScalar()\n",
    "        print(f\"Saved Volume: {current_volume * 100:.0f}%\")\n",
    "        \n",
    "        # 볼륨을 100%로 설정\n",
    "        volume.SetMasterVolumeLevelScalar(1.0, None)\n",
    "        # print(\"Volume set to 100%.\")\n",
    "        return current_volume\n",
    "    \n",
    "    elif mode == \"restore\" and saved_volume is not None:\n",
    "        # 저장된 볼륨으로 복원\n",
    "        volume.SetMasterVolumeLevelScalar(saved_volume, None)\n",
    "        print(f\"Volume restored to {saved_volume * 100:.0f}%.\")\n",
    "    else:\n",
    "        print(\"Invalid mode or no saved volume to restore.\")"
   ]
  },
  {
   "cell_type": "code",
   "execution_count": 10,
   "id": "dd61e69f-64eb-4ee8-9059-fc351365b098",
   "metadata": {
    "tags": []
   },
   "outputs": [
    {
     "name": "stdout",
     "output_type": "stream",
     "text": [
      "Current Volume: 48%\n",
      "Volume restored to 48%.\n"
     ]
    }
   ],
   "source": [
    "saved_volume = manage_volume(mode=\"set_max\")\n",
    "\n",
    "# 몇 초 후 원래 볼륨으로 복원\n",
    "time.sleep(1)\n",
    "manage_volume(mode=\"restore\", saved_volume=saved_volume)"
   ]
  }
 ],
 "metadata": {
  "kernelspec": {
   "display_name": "Python 3 (ipykernel)",
   "language": "python",
   "name": "python3"
  },
  "language_info": {
   "codemirror_mode": {
    "name": "ipython",
    "version": 3
   },
   "file_extension": ".py",
   "mimetype": "text/x-python",
   "name": "python",
   "nbconvert_exporter": "python",
   "pygments_lexer": "ipython3",
   "version": "3.11.5"
  }
 },
 "nbformat": 4,
 "nbformat_minor": 5
}
