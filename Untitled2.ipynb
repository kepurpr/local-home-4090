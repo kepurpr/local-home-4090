{
 "cells": [
  {
   "cell_type": "code",
   "execution_count": 4,
   "id": "677f7074-6dfa-455c-bf18-aedf2e3913c6",
   "metadata": {
    "tags": []
   },
   "outputs": [
    {
     "ename": "ModuleNotFoundError",
     "evalue": "No module named 'snowflake.connector'; 'snowflake' is not a package",
     "output_type": "error",
     "traceback": [
      "\u001b[1;31m---------------------------------------------------------------------------\u001b[0m",
      "\u001b[1;31mModuleNotFoundError\u001b[0m                       Traceback (most recent call last)",
      "Cell \u001b[1;32mIn[4], line 4\u001b[0m\n\u001b[0;32m      2\u001b[0m \u001b[38;5;66;03m# st.set_option('deprecation.showPyplotGlobalUse', False)\u001b[39;00m\n\u001b[0;32m      3\u001b[0m \u001b[38;5;28;01mimport\u001b[39;00m \u001b[38;5;21;01mpandas\u001b[39;00m \u001b[38;5;28;01mas\u001b[39;00m \u001b[38;5;21;01mpd\u001b[39;00m\n\u001b[1;32m----> 4\u001b[0m \u001b[38;5;28;01mimport\u001b[39;00m \u001b[38;5;21;01msnowflake\u001b[39;00m\u001b[38;5;21;01m.\u001b[39;00m\u001b[38;5;21;01mconnector\u001b[39;00m\n\u001b[0;32m      5\u001b[0m \u001b[38;5;28;01mimport\u001b[39;00m \u001b[38;5;21;01mtime\u001b[39;00m\n\u001b[0;32m      6\u001b[0m \u001b[38;5;28;01mimport\u001b[39;00m \u001b[38;5;21;01mplotly\u001b[39;00m\u001b[38;5;21;01m.\u001b[39;00m\u001b[38;5;21;01mgraph_objects\u001b[39;00m \u001b[38;5;28;01mas\u001b[39;00m \u001b[38;5;21;01mgo\u001b[39;00m\n",
      "\u001b[1;31mModuleNotFoundError\u001b[0m: No module named 'snowflake.connector'; 'snowflake' is not a package"
     ]
    }
   ],
   "source": [
    "import streamlit as st\n",
    "# st.set_option('deprecation.showPyplotGlobalUse', False)\n",
    "import pandas as pd\n",
    "import snowflake.connector\n",
    "import time\n",
    "import plotly.graph_objects as go\n",
    "\n",
    "sq = \"\"\"\n",
    "            SELECT\n",
    "                PLT_CD as plant,\n",
    "                MTL_CD as M_Code,\n",
    "                CASE TEST_FG\n",
    "                    WHEN 'SVMC' THEN 'SVP (HKMC)'\n",
    "                    WHEN 'ISAU' THEN 'ISO 28580 (AUDI)'\n",
    "                    WHEN 'ISEU' THEN 'ISO 28580 (EU)'\n",
    "                    WHEN 'ISHK' THEN 'ISO 28580 (HKMC)'\n",
    "                    WHEN 'ISRD' THEN 'ISO 28580 (R&D#2)'\n",
    "                    WHEN 'ISR3' THEN 'ISO 28580 (R&D#3)'\n",
    "                    WHEN 'ISTO' THEN 'ISO 28580 (TOYOTA_2013)'\n",
    "                    WHEN 'ISOD' THEN 'ISO 28580(Old HK G.)'\n",
    "                    WHEN 'SAEF' THEN 'SAE-J1269 (HK)'\n",
    "                    WHEN 'SAE3' THEN 'SAE-J2452(Ford_2016)'\n",
    "                    WHEN 'SAE1' THEN 'SAE-J2452(GM_1.7)'\n",
    "                    WHEN 'SAE2' THEN 'SAE-J2452(GM_2.0)'\n",
    "                    WHEN 'SAE5' THEN 'SAE-J2452(Tesla)'\n",
    "                    WHEN 'SVDA' THEN 'SVP (HONDA)'\n",
    "                    WHEN 'SVAN' THEN 'SVP (NISSAN)'\n",
    "                END METHOD,\n",
    "                TEST_FG,\n",
    "                use_trot as status,\n",
    "                TO_DATE(start_date,'YYYYMMDD') as start_date,\n",
    "                TO_DATE(end_date,'YYYYMMDD') as end_date,\n",
    "                SPEC_CHANGE,\n",
    "                APV_RRC_SPEC as SPEC,\n",
    "                APV_RRC_TARGET as TARGET,\n",
    "                APV_RRC_TOL as TOL,\n",
    "                APV_RRC_MAX as max,\n",
    "                APV_RRC_min as min,\n",
    "                TO_DATE(UDT_DTM,'YYYYMMDDHH24MISS') as UDT_DTM,\n",
    "            FROM HKT_DW.MES.QLT_D_LQLTTR510;\n",
    "    \"\"\"\n",
    "\n",
    "\n",
    "@st.cache_data(ttl=600)\n",
    "def _execute_snowflake_query(query):\n",
    "    \"\"\"\n",
    "    Snowflake 데이터베이스에 대해 주어진 쿼리를 실행하고, 결과를 Pandas DataFrame으로 반환하며,\n",
    "    쿼리 실행 시간을 측정하여 반환합니다.\n",
    "    \"\"\"\n",
    "    conn = snowflake.connector.connect(\n",
    "        user='21300584',\n",
    "        password='Kuac141026@',\n",
    "        account='ls58031.ap-northeast-2.privatelink',\n",
    "        warehouse='SMALL_WH',\n",
    "        database='HKT_DW',\n",
    "        schema='KPPMES'\n",
    "    )\n",
    "    start_time = time.time()\n",
    "    try:\n",
    "        with conn:\n",
    "            df = pd.read_sql_query(query, conn)\n",
    "            execution_time = time.time() - start_time\n",
    "            return df, execution_time\n",
    "    except snowflake.connector.errors.DatabaseError as e:\n",
    "        print(f\"Database error: {e}\")\n",
    "        return None, None\n",
    "\n",
    "\n",
    "(df_rr_standard,t_oe_app) = _execute_snowflake_query(sq)\n",
    "\n",
    "group_rr = df_rr_standard.groupby('PLANT').size().reset_index().rename(columns={0:'count'})\n",
    "st.header('RR')\n",
    "col1, col2 = st.columns([1, 3])\n",
    "col1.dataframe(group_rr)\n",
    "\n",
    "trace = go.Bar(x = group_rr['PLANT'], y = group_rr['count'])\n",
    "fig = go.Figure(trace)\n",
    "col2.plotly_chart(fig)"
   ]
  },
  {
   "cell_type": "code",
   "execution_count": null,
   "id": "da0f70e2-8e7e-46a1-bdef-d658aca7d980",
   "metadata": {},
   "outputs": [],
   "source": []
  },
  {
   "cell_type": "code",
   "execution_count": 8,
   "id": "f3e3bb26-fe47-4810-9a70-23eeb71b2aaf",
   "metadata": {
    "tags": []
   },
   "outputs": [],
   "source": [
    "import snowflake"
   ]
  },
  {
   "cell_type": "code",
   "execution_count": 10,
   "id": "32cb2926-59f4-4fac-bac2-c0d5c3d5f502",
   "metadata": {
    "tags": []
   },
   "outputs": [
    {
     "name": "stdout",
     "output_type": "stream",
     "text": [
      "Help on module snowflake:\n",
      "\n",
      "NAME\n",
      "    snowflake\n",
      "\n",
      "FUNCTIONS\n",
      "    make_snowflake(snowflake_file='/etc/snowflake')\n",
      "        If a snowflake ID exists, returns it. Otherwise, creates one.\n",
      "    \n",
      "    snowflake(snowflake_file='/etc/snowflake')\n",
      "        Get the snowflake ID from the specified file. If the file is unreadable for\n",
      "        some reason (perhaps it doesn't exist), this will return None. However, if\n",
      "        the first line of the file is not a UUID, we decide the file contains other\n",
      "        things besides a snowflake ID and raise a ValueError.\n",
      "\n",
      "DATA\n",
      "    SNOWFLAKE_FILE = '/etc/snowflake'\n",
      "\n",
      "FILE\n",
      "    c:\\users\\hanta\\appdata\\roaming\\python\\python311\\site-packages\\snowflake.py\n",
      "\n",
      "\n"
     ]
    }
   ],
   "source": [
    "help(snowflake)"
   ]
  }
 ],
 "metadata": {
  "kernelspec": {
   "display_name": "Python 3 (ipykernel)",
   "language": "python",
   "name": "python3"
  },
  "language_info": {
   "codemirror_mode": {
    "name": "ipython",
    "version": 3
   },
   "file_extension": ".py",
   "mimetype": "text/x-python",
   "name": "python",
   "nbconvert_exporter": "python",
   "pygments_lexer": "ipython3",
   "version": "3.11.5"
  }
 },
 "nbformat": 4,
 "nbformat_minor": 5
}
