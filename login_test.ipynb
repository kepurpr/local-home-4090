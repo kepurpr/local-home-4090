{
 "cells": [
  {
   "cell_type": "code",
   "execution_count": 1,
   "metadata": {
    "tags": []
   },
   "outputs": [
    {
     "name": "stdout",
     "output_type": "stream",
     "text": [
      "2024-04-08 08:59:27.333656\n",
      "2024-04-08 08:59:29.856776\n",
      "2024-04-08 08:59:29.857786\n",
      "2024-04-08 08:59:29.857786\n"
     ]
    }
   ],
   "source": [
    "from selenium import webdriver\n",
    "from selenium.webdriver.common.by import By\n",
    "from selenium.webdriver.common.keys import Keys\n",
    "from selenium.webdriver.support.ui import WebDriverWait\n",
    "from selenium.webdriver.support import expected_conditions as EC\n",
    "from selenium.webdriver.chrome.service import Service as ChromeService\n",
    "from webdriver_manager.chrome import ChromeDriverManager\n",
    "from datetime import datetime as date\n",
    "from time import sleep\n",
    "import os\n",
    "import time\n",
    "import subprocess\n",
    "\n",
    "def restart_explorer():\n",
    "    os.system(\"taskkill /f /im explorer.exe\")\n",
    "    subprocess.Popen(r\"C:\\Windows\\explorer.exe\")\n",
    "\n",
    "def get_driver():\n",
    "    pathDriver = r\"C:\\Users\\hanta\\.wdm\\drivers\\chromedriver\\win64\"\n",
    "    subfolders = [f.name for f in os.scandir(pathDriver) if f.is_dir()]\n",
    "    downloaded_latest_driver_version = max(subfolders)\n",
    "    \n",
    "    try:\n",
    "        driver_path = rf\"C:\\Users\\hanta\\.wdm\\drivers\\chromedriver\\win64\\{downloaded_latest_driver_version}\\chromedriver-win32\\chromedriver.exe\"\n",
    "        driver = webdriver.Chrome(service=ChromeService(executable_path=driver_path))\n",
    "        return driver\n",
    "    except:\n",
    "        driver_path = ChromeDriverManager().install()\n",
    "        driver = webdriver.Chrome(service=ChromeService(executable_path=driver_path))\n",
    "        return driver\n",
    "\n",
    "driver = get_driver()\n",
    "print(date.now())\n",
    "try:\n",
    "    driver.get(url=\"http://trt.hankooktech.com/time.do\")\n",
    "    now_time = date.now()\n",
    "    print(now_time)\n",
    "\n",
    "    if now_time.hour < 8:\n",
    "        element = WebDriverWait(driver, 10).until(EC.element_to_be_clickable((By.ID, 'pernr')))\n",
    "        element = WebDriverWait(driver, 10).until(EC.element_to_be_clickable((By.ID, 'CBnt')))\n",
    "\n",
    "        search_box = driver.find_element(By.ID, 'pernr')  # \"입력\"찾기\n",
    "        search_box.send_keys('21600594')\n",
    "        sleep(0.5)\n",
    "        search_box.send_keys(Keys.RETURN)\n",
    "\n",
    "        posting = driver.find_element(By.ID, 'CBnt')  # \"인증\" 찾기\n",
    "        sleep(0.5)\n",
    "        posting.click()\n",
    "    else:\n",
    "        print(date.now())\n",
    "finally:\n",
    "    print(date.now())\n",
    "    sleep(5)\n",
    "    driver.quit()"
   ]
  }
 ],
 "metadata": {
  "kernelspec": {
   "display_name": "Python 3 (ipykernel)",
   "language": "python",
   "name": "python3"
  },
  "language_info": {
   "codemirror_mode": {
    "name": "ipython",
    "version": 3
   },
   "file_extension": ".py",
   "mimetype": "text/x-python",
   "name": "python",
   "nbconvert_exporter": "python",
   "pygments_lexer": "ipython3",
   "version": "3.11.5"
  }
 },
 "nbformat": 4,
 "nbformat_minor": 4
}
