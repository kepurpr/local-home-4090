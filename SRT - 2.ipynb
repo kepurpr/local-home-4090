{
 "cells": [
  {
   "cell_type": "code",
   "execution_count": 138,
   "id": "fd72ae93-23ff-4fa8-ba13-52e5baa4cf43",
   "metadata": {
    "tags": []
   },
   "outputs": [],
   "source": [
    "# edit date : 2024-03-05\n",
    "# version : 1.9.0\n",
    "\n",
    "from random import randint\n",
    "from selenium import webdriver\n",
    "from selenium.webdriver.common.by import By\n",
    "from selenium.webdriver.support.select import Select\n",
    "from webdriver_manager.chrome import ChromeDriverManager\n",
    "from selenium.webdriver.chrome.service import Service as ChromeService\n",
    "from selenium import *\n",
    "import os\n",
    "import time\n",
    "import random\n",
    "import webbrowser\n",
    "import subprocess\n",
    "import win32api\n",
    "\n",
    "\n",
    "# from selenium.webdriver.common.keys import Keys\n",
    "# from selenium.webdriver.support.ui import WebDriverWait\n",
    "# from selenium.webdriver.support import expected_conditions as EC\n",
    "\n",
    "\n",
    "chrome_path = 'C:/Program Files (x86)/Google/Chrome/Application/chrome.exe %s'\n",
    "\n",
    "############# 자동 예매 원하는 설정으로 변경 ##############\n",
    "\n",
    "member_number = \"2092236381\" # 회원번호\n",
    "password= \"thfldjqtdl2@\" # 비밀번호\n",
    "arrival = \"수서\" # 출발지\n",
    "departure = \"나주\" # 도착지\n",
    "standard_date = \"20240503\" # 기준날짜 ex) 20221101\n",
    "standard_time = \"16\" # 기준 시간 ex) 00 - 22 // 2의 배수로 입력\n",
    "number_of_trains = 1 # 상단에서부터 조회할 기차수  maximum = 11\n",
    "\n",
    "#################################################################\n",
    "\n",
    "def get_driver():\n",
    "    pathDriver = r\"C:\\Users\\hanta\\.wdm\\drivers\\chromedriver\\win64\"\n",
    "    subfolders = [f.name for f in os.scandir(pathDriver) if f.is_dir()]\n",
    "    downloaded_latest_driver_version = max(subfolders)\n",
    "    \n",
    "    try:\n",
    "        driver_path = rf\"C:\\Users\\hanta\\.wdm\\drivers\\chromedriver\\win64\\{downloaded_latest_driver_version}\\chromedriver-win32\\chromedriver.exe\"\n",
    "        driver = webdriver.Chrome(service=ChromeService(executable_path=driver_path))\n",
    "        return driver\n",
    "    except:\n",
    "        driver_path = ChromeDriverManager().install()\n",
    "        driver = webdriver.Chrome(service=ChromeService(executable_path=driver_path))\n",
    "        return driver\n"
   ]
  },
  {
   "cell_type": "code",
   "execution_count": 139,
   "id": "2c17d3bd-3ac7-4c6a-8107-227911fbc7d6",
   "metadata": {
    "tags": []
   },
   "outputs": [
    {
     "ename": "NoSuchWindowException",
     "evalue": "Message: no such window: target window already closed\nfrom unknown error: web view not found\n  (Session info: chrome=123.0.6312.123)\nStacktrace:\n\tGetHandleVerifier [0x00C84CE3+225091]\n\t(No symbol) [0x00BB4E31]\n\t(No symbol) [0x00A59A7A]\n\t(No symbol) [0x00A3E312]\n\t(No symbol) [0x00AB517B]\n\t(No symbol) [0x00AC55A6]\n\t(No symbol) [0x00AAF2F6]\n\t(No symbol) [0x00A879B9]\n\t(No symbol) [0x00A8879D]\n\tsqlite3_dbdata_init [0x010F9A83+4064547]\n\tsqlite3_dbdata_init [0x0110108A+4094762]\n\tsqlite3_dbdata_init [0x010FB988+4072488]\n\tsqlite3_dbdata_init [0x00DFC9E9+930953]\n\t(No symbol) [0x00BC0804]\n\t(No symbol) [0x00BBAD28]\n\t(No symbol) [0x00BBAE51]\n\t(No symbol) [0x00BACAC0]\n\tBaseThreadInitThunk [0x770F7BA9+25]\n\tRtlInitializeExceptionChain [0x77BFBE3B+107]\n\tRtlClearBits [0x77BFBDBF+191]\n",
     "output_type": "error",
     "traceback": [
      "\u001b[1;31m---------------------------------------------------------------------------\u001b[0m",
      "\u001b[1;31mNoSuchWindowException\u001b[0m                     Traceback (most recent call last)",
      "Cell \u001b[1;32mIn[139], line 6\u001b[0m\n\u001b[0;32m      3\u001b[0m driver\u001b[38;5;241m.\u001b[39mimplicitly_wait(\u001b[38;5;241m15\u001b[39m)\n\u001b[0;32m      5\u001b[0m \u001b[38;5;66;03m# 회원번호 매핑\u001b[39;00m\n\u001b[1;32m----> 6\u001b[0m driver\u001b[38;5;241m.\u001b[39mfind_element(By\u001b[38;5;241m.\u001b[39mID, \u001b[38;5;124m'\u001b[39m\u001b[38;5;124msrchDvNm01\u001b[39m\u001b[38;5;124m'\u001b[39m)\u001b[38;5;241m.\u001b[39msend_keys(member_number)\n\u001b[0;32m      8\u001b[0m \u001b[38;5;66;03m# 비밀번호 매핑\u001b[39;00m\n\u001b[0;32m      9\u001b[0m driver\u001b[38;5;241m.\u001b[39mfind_element(By\u001b[38;5;241m.\u001b[39mID, \u001b[38;5;124m'\u001b[39m\u001b[38;5;124mhmpgPwdCphd01\u001b[39m\u001b[38;5;124m'\u001b[39m)\u001b[38;5;241m.\u001b[39msend_keys(password)\n",
      "File \u001b[1;32m~\\anaconda3\\Lib\\site-packages\\selenium\\webdriver\\remote\\webdriver.py:741\u001b[0m, in \u001b[0;36mWebDriver.find_element\u001b[1;34m(self, by, value)\u001b[0m\n\u001b[0;32m    738\u001b[0m     by \u001b[38;5;241m=\u001b[39m By\u001b[38;5;241m.\u001b[39mCSS_SELECTOR\n\u001b[0;32m    739\u001b[0m     value \u001b[38;5;241m=\u001b[39m \u001b[38;5;124mf\u001b[39m\u001b[38;5;124m'\u001b[39m\u001b[38;5;124m[name=\u001b[39m\u001b[38;5;124m\"\u001b[39m\u001b[38;5;132;01m{\u001b[39;00mvalue\u001b[38;5;132;01m}\u001b[39;00m\u001b[38;5;124m\"\u001b[39m\u001b[38;5;124m]\u001b[39m\u001b[38;5;124m'\u001b[39m\n\u001b[1;32m--> 741\u001b[0m \u001b[38;5;28;01mreturn\u001b[39;00m \u001b[38;5;28mself\u001b[39m\u001b[38;5;241m.\u001b[39mexecute(Command\u001b[38;5;241m.\u001b[39mFIND_ELEMENT, {\u001b[38;5;124m\"\u001b[39m\u001b[38;5;124musing\u001b[39m\u001b[38;5;124m\"\u001b[39m: by, \u001b[38;5;124m\"\u001b[39m\u001b[38;5;124mvalue\u001b[39m\u001b[38;5;124m\"\u001b[39m: value})[\u001b[38;5;124m\"\u001b[39m\u001b[38;5;124mvalue\u001b[39m\u001b[38;5;124m\"\u001b[39m]\n",
      "File \u001b[1;32m~\\anaconda3\\Lib\\site-packages\\selenium\\webdriver\\remote\\webdriver.py:347\u001b[0m, in \u001b[0;36mWebDriver.execute\u001b[1;34m(self, driver_command, params)\u001b[0m\n\u001b[0;32m    345\u001b[0m response \u001b[38;5;241m=\u001b[39m \u001b[38;5;28mself\u001b[39m\u001b[38;5;241m.\u001b[39mcommand_executor\u001b[38;5;241m.\u001b[39mexecute(driver_command, params)\n\u001b[0;32m    346\u001b[0m \u001b[38;5;28;01mif\u001b[39;00m response:\n\u001b[1;32m--> 347\u001b[0m     \u001b[38;5;28mself\u001b[39m\u001b[38;5;241m.\u001b[39merror_handler\u001b[38;5;241m.\u001b[39mcheck_response(response)\n\u001b[0;32m    348\u001b[0m     response[\u001b[38;5;124m\"\u001b[39m\u001b[38;5;124mvalue\u001b[39m\u001b[38;5;124m\"\u001b[39m] \u001b[38;5;241m=\u001b[39m \u001b[38;5;28mself\u001b[39m\u001b[38;5;241m.\u001b[39m_unwrap_value(response\u001b[38;5;241m.\u001b[39mget(\u001b[38;5;124m\"\u001b[39m\u001b[38;5;124mvalue\u001b[39m\u001b[38;5;124m\"\u001b[39m, \u001b[38;5;28;01mNone\u001b[39;00m))\n\u001b[0;32m    349\u001b[0m     \u001b[38;5;28;01mreturn\u001b[39;00m response\n",
      "File \u001b[1;32m~\\anaconda3\\Lib\\site-packages\\selenium\\webdriver\\remote\\errorhandler.py:229\u001b[0m, in \u001b[0;36mErrorHandler.check_response\u001b[1;34m(self, response)\u001b[0m\n\u001b[0;32m    227\u001b[0m         alert_text \u001b[38;5;241m=\u001b[39m value[\u001b[38;5;124m\"\u001b[39m\u001b[38;5;124malert\u001b[39m\u001b[38;5;124m\"\u001b[39m]\u001b[38;5;241m.\u001b[39mget(\u001b[38;5;124m\"\u001b[39m\u001b[38;5;124mtext\u001b[39m\u001b[38;5;124m\"\u001b[39m)\n\u001b[0;32m    228\u001b[0m     \u001b[38;5;28;01mraise\u001b[39;00m exception_class(message, screen, stacktrace, alert_text)  \u001b[38;5;66;03m# type: ignore[call-arg]  # mypy is not smart enough here\u001b[39;00m\n\u001b[1;32m--> 229\u001b[0m \u001b[38;5;28;01mraise\u001b[39;00m exception_class(message, screen, stacktrace)\n",
      "\u001b[1;31mNoSuchWindowException\u001b[0m: Message: no such window: target window already closed\nfrom unknown error: web view not found\n  (Session info: chrome=123.0.6312.123)\nStacktrace:\n\tGetHandleVerifier [0x00C84CE3+225091]\n\t(No symbol) [0x00BB4E31]\n\t(No symbol) [0x00A59A7A]\n\t(No symbol) [0x00A3E312]\n\t(No symbol) [0x00AB517B]\n\t(No symbol) [0x00AC55A6]\n\t(No symbol) [0x00AAF2F6]\n\t(No symbol) [0x00A879B9]\n\t(No symbol) [0x00A8879D]\n\tsqlite3_dbdata_init [0x010F9A83+4064547]\n\tsqlite3_dbdata_init [0x0110108A+4094762]\n\tsqlite3_dbdata_init [0x010FB988+4072488]\n\tsqlite3_dbdata_init [0x00DFC9E9+930953]\n\t(No symbol) [0x00BC0804]\n\t(No symbol) [0x00BBAD28]\n\t(No symbol) [0x00BBAE51]\n\t(No symbol) [0x00BACAC0]\n\tBaseThreadInitThunk [0x770F7BA9+25]\n\tRtlInitializeExceptionChain [0x77BFBE3B+107]\n\tRtlClearBits [0x77BFBDBF+191]\n"
     ]
    }
   ],
   "source": [
    "\n",
    "driver = get_driver()\n",
    "driver.get('https://etk.srail.co.kr/cmc/01/selectLoginForm.do')\n",
    "driver.implicitly_wait(15)\n",
    "\n",
    "# 회원번호 매핑\n",
    "driver.find_element(By.ID, 'srchDvNm01').send_keys(member_number)\n",
    "\n",
    "# 비밀번호 매핑\n",
    "driver.find_element(By.ID, 'hmpgPwdCphd01').send_keys(password)\n",
    "\n",
    "# 확인 버튼 클릭\n",
    "driver.find_element(By.XPATH, '/html/body/div/div[4]/div/div[2]/form/\\\n",
    "    fieldset/div[1]/div[1]/div[2]/div/div[2]/input').click()\n",
    "driver.implicitly_wait(5)\n",
    "\n",
    "driver.get('https://etk.srail.kr/hpg/hra/01/selectScheduleList.do')\n",
    "driver.implicitly_wait(5)\n",
    "\n",
    "\n",
    "# 출발지 입력\n",
    "dep_stn = driver.find_element(By.ID, 'dptRsStnCdNm')\n",
    "dep_stn.clear()\n",
    "dep_stn.send_keys(arrival)\n",
    "\n",
    "# 도착지 입력\n",
    "arr_stn = driver.find_element(By.ID, 'arvRsStnCdNm')\n",
    "arr_stn.clear()\n",
    "arr_stn.send_keys(departure)\n",
    "\n",
    "# 날짜 드롭다운 리스트 보이게\n",
    "# elm_dptDt = driver.find_element(By.ID, \"dptDt\")\n",
    "# driver.execute_script(\"arguments[0].setAttribute('style','display: True;)\", elm_dptDt)\n",
    "\n",
    "Select(driver.find_element(By.ID,\"dptDt\")).select_by_value(standard_date)\n",
    "\n",
    "# 출발 시간\n",
    "# eml_dptTm = driver.find_element(By.ID, \"dptTm\")\n",
    "# driver.execute_script(\"arguments[0].setAttribbute('style','display:True;')\", eml_dptTm)\n",
    "\n",
    "Select(driver.find_element(By.ID, \"dptTm\")).select_by_visible_text(standard_time)\n",
    "\n",
    "# 조회하기 버튼\n",
    "driver.find_element(By.XPATH, \"//input[@value='조회하기']\").click()\n",
    "\n",
    "\n",
    "train_list = driver.find_elements(By.CSS_SELECTOR, \"#result-form > fieldset > \\\n",
    "div.tbl_wrap.th_thead > table > tbody > tr\")\n",
    "\n",
    "print(train_list)\n",
    "\n",
    "\n"
   ]
  },
  {
   "cell_type": "code",
   "execution_count": 55,
   "id": "181c0020-eebe-4afb-9261-f00fd4f54d76",
   "metadata": {
    "tags": []
   },
   "outputs": [],
   "source": [
    "def Repeat_reserved(start_of_trains, number_of_trains):\n",
    "    reserved = False\n",
    "    count = 0\n",
    "    while True: \n",
    "        count +=1\n",
    "        try:\n",
    "            for i in range(start_of_trains, number_of_trains):\n",
    "                standard_seat = driver.find_element(By.CSS_SELECTOR, f\"#result-form > fieldset > div.tbl_wrap.th_thead > table > tbody > tr:nth-child({i}) > td:nth-child(7)\").text\n",
    "\n",
    "                if \"예약하기\" in standard_seat:\n",
    "                    print(\"예약 가능 클릭\")\n",
    "                    driver.find_element(By.XPATH, f\"/html/body/div[1]/div[4]/div/div[3]/div[1]/\\\n",
    "                    form/fieldset/div[6]/table/tbody/tr[{i}]/td[7]/a/span\").click()\n",
    "                    driver.implicitly_wait(3)\n",
    "\n",
    "                    if driver.find_elements(By.ID, 'isFalseGotoMain'):\n",
    "                        reserved = True\n",
    "                        formatted = time.strftime(\"%y%m%d.%H:%M:%S\")\n",
    "                        print(f'예약 성공, {formatted}')\n",
    "                        webbrowser.get(chrome_path).open(\"https://etk.srail.kr/hpg/hra/02/selectReservationList.do?pageId=TK0102010000\")\n",
    "                        win32api.MessageBox(0, \"Seat Reserved\", \"Done\", 64)\n",
    "                        return i\n",
    "                        # break\n",
    "\n",
    "                    else:\n",
    "                        driver.back() #뒤로가기\n",
    "                        formatted = time.strftime(\"%y%m%d.%H:%M:%S\")\n",
    "                        print(f\"잔여석 없음. 다시 검색, {formatted}\")\n",
    "                        driver.implicitly_wait(5)\n",
    " \n",
    "\n",
    "        except: \n",
    "            print('잔여석 조회 불가')\n",
    "            pass\n",
    "\n",
    "        if not reserved:\n",
    "            try:\n",
    "            # 다시 조회하기\n",
    "                submit = driver.find_element(By.XPATH, \"/html/body/div/div[4]/div/div[2]/form/fieldset/div[2]/input\")\n",
    "                driver.execute_script(\"arguments[0].click();\", submit)\n",
    "                formatted = time.strftime(\"%y%m%d.%H:%M:%S\")                                     \n",
    "                print(f\"새로고침{count}, {formatted}\", end='\\r')\n",
    "                    \n",
    "            except: \n",
    "                formatted = time.strftime(\"%y%m%d.%H:%M:%S\")\n",
    "                print(f\"잔여석 없음 #2. 초기화{formatted}\")\n",
    "                driver.back() #뒤로가기\n",
    "                driver.implicitly_wait(5)\n",
    "\n",
    "                driver.refresh() #새로고침\n",
    "                driver.implicitly_wait(5)\n",
    "                pass\n",
    "\n",
    "            # 1초 대기\n",
    "            driver.implicitly_wait(10)\n",
    "            randomndelay=random.randrange(1,51)/10\n",
    "            time.sleep(randomndelay)\n",
    "\n",
    "        else:\n",
    "            print(\"오류\")\n",
    "            time.sleep(1000)\n",
    "            break\n"
   ]
  },
  {
   "cell_type": "code",
   "execution_count": 15,
   "id": "b4ae0060-c13e-4487-afb2-999c9c537f46",
   "metadata": {
    "tags": []
   },
   "outputs": [],
   "source": [
    "standard_date = \"20240503\" # 기준날짜 ex) 20221101\n",
    "standard_time = \"16\" # 기준 시간 ex) 00 - 22 // 2의 배수로 입력\n",
    "start_of_trains = 1 # 검색 시 보여지는 기차 중 시작할 기차의 서수\n",
    "number_of_trains = 2 # 상단에서부터 조회할 기차수  maximum = 11\n",
    "# import win32api"
   ]
  },
  {
   "cell_type": "code",
   "execution_count": 46,
   "id": "5101b3a0-9b2e-4ab4-a151-1384af50c866",
   "metadata": {
    "tags": []
   },
   "outputs": [
    {
     "name": "stdout",
     "output_type": "stream",
     "text": [
      "새로고침300, 240418.11:31:50\r"
     ]
    },
    {
     "ename": "KeyboardInterrupt",
     "evalue": "",
     "output_type": "error",
     "traceback": [
      "\u001b[1;31m---------------------------------------------------------------------------\u001b[0m",
      "\u001b[1;31mKeyboardInterrupt\u001b[0m                         Traceback (most recent call last)",
      "Cell \u001b[1;32mIn[46], line 1\u001b[0m\n\u001b[1;32m----> 1\u001b[0m Repeat_reserved()\n",
      "Cell \u001b[1;32mIn[45], line 61\u001b[0m, in \u001b[0;36mRepeat_reserved\u001b[1;34m()\u001b[0m\n\u001b[0;32m     59\u001b[0m     \u001b[38;5;66;03m# 1초 대기\u001b[39;00m\n\u001b[0;32m     60\u001b[0m     driver\u001b[38;5;241m.\u001b[39mimplicitly_wait(\u001b[38;5;241m10\u001b[39m)\n\u001b[1;32m---> 61\u001b[0m     time\u001b[38;5;241m.\u001b[39msleep(\u001b[38;5;241m1\u001b[39m)\n\u001b[0;32m     63\u001b[0m \u001b[38;5;28;01melse\u001b[39;00m:\n\u001b[0;32m     64\u001b[0m     \u001b[38;5;28mprint\u001b[39m(\u001b[38;5;124m\"\u001b[39m\u001b[38;5;124m오류\u001b[39m\u001b[38;5;124m\"\u001b[39m)\n",
      "\u001b[1;31mKeyboardInterrupt\u001b[0m: "
     ]
    }
   ],
   "source": [
    "n = 2 # 예약 티켓 수\n",
    "reserved_train_n = Repeat_reserved(start_of_trains, number_of_trains)\n",
    "for i in range(1:n-1):\n",
    "    Repeat_reserved(reserved_train_n, reserved_train_n)"
   ]
  },
  {
   "cell_type": "code",
   "execution_count": 4,
   "id": "90e2d0c4-df29-4589-8a03-1a4055707248",
   "metadata": {
    "collapsed": true,
    "jupyter": {
     "outputs_hidden": true
    },
    "tags": []
   },
   "outputs": [
    {
     "data": {
      "text/plain": [
       "[<selenium.webdriver.remote.webelement.WebElement (session=\"6255f0e3eeb75a8e3e39b46d3765f40c\", element=\"f.8357F98F3420C479BA91B02F108F1107.d.DE2798EA265DF62129300FE7C38E67F6.e.1899\")>,\n",
       " <selenium.webdriver.remote.webelement.WebElement (session=\"6255f0e3eeb75a8e3e39b46d3765f40c\", element=\"f.8357F98F3420C479BA91B02F108F1107.d.DE2798EA265DF62129300FE7C38E67F6.e.2032\")>,\n",
       " <selenium.webdriver.remote.webelement.WebElement (session=\"6255f0e3eeb75a8e3e39b46d3765f40c\", element=\"f.8357F98F3420C479BA91B02F108F1107.d.DE2798EA265DF62129300FE7C38E67F6.e.2165\")>,\n",
       " <selenium.webdriver.remote.webelement.WebElement (session=\"6255f0e3eeb75a8e3e39b46d3765f40c\", element=\"f.8357F98F3420C479BA91B02F108F1107.d.DE2798EA265DF62129300FE7C38E67F6.e.2298\")>,\n",
       " <selenium.webdriver.remote.webelement.WebElement (session=\"6255f0e3eeb75a8e3e39b46d3765f40c\", element=\"f.8357F98F3420C479BA91B02F108F1107.d.DE2798EA265DF62129300FE7C38E67F6.e.2431\")>,\n",
       " <selenium.webdriver.remote.webelement.WebElement (session=\"6255f0e3eeb75a8e3e39b46d3765f40c\", element=\"f.8357F98F3420C479BA91B02F108F1107.d.DE2798EA265DF62129300FE7C38E67F6.e.2564\")>,\n",
       " <selenium.webdriver.remote.webelement.WebElement (session=\"6255f0e3eeb75a8e3e39b46d3765f40c\", element=\"f.8357F98F3420C479BA91B02F108F1107.d.DE2798EA265DF62129300FE7C38E67F6.e.2697\")>,\n",
       " <selenium.webdriver.remote.webelement.WebElement (session=\"6255f0e3eeb75a8e3e39b46d3765f40c\", element=\"f.8357F98F3420C479BA91B02F108F1107.d.DE2798EA265DF62129300FE7C38E67F6.e.2712\")>,\n",
       " <selenium.webdriver.remote.webelement.WebElement (session=\"6255f0e3eeb75a8e3e39b46d3765f40c\", element=\"f.8357F98F3420C479BA91B02F108F1107.d.DE2798EA265DF62129300FE7C38E67F6.e.2724\")>,\n",
       " <selenium.webdriver.remote.webelement.WebElement (session=\"6255f0e3eeb75a8e3e39b46d3765f40c\", element=\"f.8357F98F3420C479BA91B02F108F1107.d.DE2798EA265DF62129300FE7C38E67F6.e.2725\")>]"
      ]
     },
     "execution_count": 4,
     "metadata": {},
     "output_type": "execute_result"
    }
   ],
   "source": [
    "## 원본\n",
    "reserved = False\n",
    "while True: \n",
    "    try:\n",
    "        for i in range(1,number_of_trains):\n",
    "            standard_seat = driver.find_element(By.CSS_SELECTOR, f\"#result-form > fieldset > div.tbl_wrap.th_thead > table > tbody > tr:nth-child({i}) > td:nth-child(7)\").text\n",
    "\n",
    "            if \"예약하기\" in standard_seat:\n",
    "                print(\"예약 가능 클릭\")\n",
    "                driver.find_element(By.XPATH, f\"/html/body/div[1]/div[4]/div/div[3]/div[1]/\\\n",
    "                form/fieldset/div[6]/table/tbody/tr[{i}]/td[7]/a/span\").click()\n",
    "                driver.implicitly_wait(3)\n",
    "\n",
    "                if driver.find_elements(By.ID, 'isFalseGotoMain'):\n",
    "                    reserved = True\n",
    "                    print('예약 성공')\n",
    "                    webbrowser.get(chrome_path).open(\"https://etk.srail.kr/hpg/hra/02/selectReservationList.do?pageId=TK0102010000\")\n",
    "                    break\n",
    "\n",
    "                else:\n",
    "                    print(\"잔여석 없음. 다시 검색\")\n",
    "                    driver.back() #뒤로가기\n",
    "                    driver.implicitly_wait(5)\n",
    "\n",
    "    except: \n",
    "        print('잔여석 조회 불가')\n",
    "        pass\n",
    "    \n",
    "    if not reserved:\n",
    "        try:\n",
    "        # 다시 조회하기\n",
    "            submit = driver.find_element(By.XPATH, \"/html/body/div/div[4]/div/div[2]/form/fieldset/div[2]/input\")\n",
    "            driver.execute_script(\"arguments[0].click();\", submit)\n",
    "            print(\"새로고침\")\n",
    "\n",
    "        except: \n",
    "            print(\"잔여석 없음 #2. 초기화\")\n",
    "            driver.back() #뒤로가기\n",
    "            driver.implicitly_wait(5)\n",
    "\n",
    "            driver.refresh() #새로고침\n",
    "            driver.implicitly_wait(5)\n",
    "            pass\n",
    "\n",
    "        # 2초 대기\n",
    "        driver.implicitly_wait(10)\n",
    "        time.sleep(2)\n",
    "\n",
    "    else:\n",
    "        time.sleep(1000)\n",
    "        break"
   ]
  }
 ],
 "metadata": {
  "kernelspec": {
   "display_name": "Python 3 (ipykernel)",
   "language": "python",
   "name": "python3"
  },
  "language_info": {
   "codemirror_mode": {
    "name": "ipython",
    "version": 3
   },
   "file_extension": ".py",
   "mimetype": "text/x-python",
   "name": "python",
   "nbconvert_exporter": "python",
   "pygments_lexer": "ipython3",
   "version": "3.11.5"
  }
 },
 "nbformat": 4,
 "nbformat_minor": 5
}
