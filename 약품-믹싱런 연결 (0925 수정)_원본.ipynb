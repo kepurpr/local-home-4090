{
 "cells": [
  {
   "cell_type": "code",
   "execution_count": null,
   "metadata": {
    "id": "ylzFLEiWh9g6"
   },
   "outputs": [],
   "source": [
    "import os\n",
    "import pandas as pd\n",
    "import numpy as np\n",
    "import matplotlib.pyplot as plt\n",
    "import datetime\n",
    "from datetime import datetime"
   ]
  },
  {
   "cell_type": "code",
   "execution_count": null,
   "metadata": {
    "id": "YKlIOhV8m_bg"
   },
   "outputs": [],
   "source": [
    "pd.set_option('display.max_columns',None)\n",
    "pd.options.display.max_rows = 30"
   ]
  },
  {
   "cell_type": "markdown",
   "metadata": {
    "id": "q6aaKqGKd_Zp"
   },
   "source": [
    "## 불러오기"
   ]
  },
  {
   "cell_type": "code",
   "execution_count": null,
   "metadata": {
    "tags": []
   },
   "outputs": [],
   "source": [
    "## Snowflake Cloud 접속 정보\n",
    "snowflake_account = 'ls58031.ap-northeast-2.privatelink'\n",
    "snowflake_user='21600594'\n",
    "snowflake_password='test123!A'\n",
    "snowflake_database='HKT_DW'\n",
    "snowflake_warehouse='SMALL_WH'\n",
    "snowflake_schema = ''\n",
    "\n",
    "## Oracle DB 접속 정보\n",
    "oracle_user = 'hqgmes'\n",
    "oracle_password = 'hqgmes'\n",
    "oracle_dsn = '202.31.25.83:1521/DKPPODA.kppodad'\n",
    "\n",
    "# Oracle Clinet 설치 결로\n",
    "oracle_dir = r\"C:\\Users\\hanta\\Downloads\\instantclient_21_10\"\n",
    "print('done')"
   ]
  },
  {
   "cell_type": "code",
   "execution_count": null,
   "metadata": {
    "tags": []
   },
   "outputs": [],
   "source": [
    "# !pip install \"snowflake-connector-python[pandas]\"\n",
    "# !pip install oracledb\n",
    "import snowflake.connector\n",
    "import oracledb\n",
    "oracledb.init_oracle_client(lib_dir=oracle_dir)\n",
    "\n",
    "def db_table(quary, db_type):\n",
    "    # snowflake 데이터 불러오기\n",
    "    if db_type == 'sf' :\n",
    "        con = snowflake.connector.connect(\n",
    "            account = snowflake_account,\n",
    "            user = snowflake_user,\n",
    "            password = snowflake_password,\n",
    "            database = snowflake_database,\n",
    "            warehouse = snowflake_warehouse\n",
    "            )\n",
    "        cur = con.cursor()\n",
    "        cur.execute(quary)\n",
    "        result_df = cur.fetch_pandas_all()\n",
    "        con.close\n",
    "        return result_df\n",
    "    \n",
    "    # Oracle DB 데이터 불러오기\n",
    "    elif db_type == 'oda':\n",
    "        con = oracledb.connect(\n",
    "            user = oracle_user, \n",
    "            password = oracle_password, \n",
    "            dsn = oracle_dsn\n",
    "            )\n",
    "        cur = con.cursor()\n",
    "        cur.execute(quary)\n",
    "        table_cols = [cols[0] for cols in cur.description]\n",
    "        result_df = pd.DataFrame(cur.fetchall(), columns=table_cols)\n",
    "        con.close\n",
    "        return result_df \n",
    "    else:\n",
    "        print('oda 또는 sf을 변수로 입력하세요')"
   ]
  },
  {
   "cell_type": "code",
   "execution_count": null,
   "metadata": {},
   "outputs": [],
   "source": [
    "from datetime import datetime, timedelta\n",
    "\n",
    "# 정수 형식의 날짜 (예: 20230101)\n",
    "date_int = 20230101\n",
    "\n",
    "# 정수를 날짜형으로\n",
    "date_obj = datetime.strptime( str(date_int), '%Y%m%d')\n",
    "\n",
    "# 15일 전의 날짜 계산\n",
    "date_15_days_ago = date_obj - timedelta(days=15)\n",
    "\n",
    "# 결과 출력 (다시 정수로 변환할 수 있음)\n",
    "pre_ref_date1 = int(date_15_days_ago.strftime('%Y%m%d'))\n",
    "\n"
   ]
  },
  {
   "cell_type": "code",
   "execution_count": null,
   "metadata": {
    "jupyter": {
     "source_hidden": true
    },
    "tags": []
   },
   "outputs": [],
   "source": [
    "ref_date1 = 20230501 # 2023년 01월\n",
    "ref_date2 = 20230630 # 2023년 12월\n",
    "\n",
    "\n",
    "\n",
    "\n",
    "# 15일 전/후의 날짜 계산\n",
    "date_obj = datetime.strptime( str(ref_date1), '%Y%m%d')\n",
    "date_15_days_ago = date_obj - timedelta(days=15)\n",
    "\n",
    "date_obj2 = datetime.strptime( str(ref_date2), '%Y%m%d')\n",
    "date_15_days_later = date_obj2 + timedelta(days=15)\n",
    "\n",
    "pre_ref_date1 = int(date_15_days_ago.strftime('%Y%m%d'))\n",
    "after_ref_date2 = int(date_15_days_later.strftime('%Y%m%d'))\n",
    "\n",
    "\n",
    "\n",
    "\n",
    "# MES 기준 : LWD307 - 정련 운전 실적 / RUNSUMMARY\n",
    "LQLTTR164 = f'''   \n",
    "    SELECT \n",
    "        PLT_CD\n",
    "        ,MC_CD\n",
    "        ,LOT_NO\n",
    "        ,WRK_ORD_NO\n",
    "        ,ORD_SEQ\n",
    "        ,SPEC_CD\n",
    "        ,SPEC_VER\n",
    "        ,MCS_VER\n",
    "        ,MC_RUN_MODE\n",
    "        ,PRDT_DATE\n",
    "        ,MAX(BTCH_NO) AS BTCH_NO\n",
    "        ,MIN(WRK_SRT_DTM) AS WRK_SRT_DTM\n",
    "        ,MAX(WRK_END_DTM) AS WRK_END_DTM\n",
    "    FROM DPPMES.LQLTTR164\n",
    "    WHERE 1=1\n",
    "        AND LOT_NO BETWEEN '{ref_date1}' AND '{ref_date2}'\n",
    "        -- AND LOT_NO = 202301040002\n",
    "        -- AND SPEC_CD = 'C1C49S019'\n",
    "        -- AND MC_CD = 'A1002'\n",
    "        -- ORDER BY 1,2,3,4,5,6\n",
    "    GROUP BY   \n",
    "        PLT_CD\n",
    "        ,MC_CD\n",
    "        ,LOT_NO\n",
    "        ,WRK_ORD_NO\n",
    "        ,ORD_SEQ\n",
    "        ,SPEC_CD\n",
    "        ,SPEC_VER\n",
    "        ,MCS_VER\n",
    "        ,MC_RUN_MODE\n",
    "        ,PRDT_DATE\n",
    "'''\n",
    "\n",
    "# MES 기준 : LWD333 - 컴파운드 생산별 투입 원부재, 고무\n",
    "LQLTTR147 = f'''\n",
    "    SELECT \n",
    "        PLT_CD\n",
    "        ,MC_CD\n",
    "        ,LOT_NO\n",
    "        ,BTCH_NO\n",
    "        ,RMTL_TP_CD \n",
    "        ,RMTL_BIN_NO \n",
    "        ,RMTL_IPT_DGE\n",
    "        ,RMTL_CD\n",
    "        ,SPEC_CD\n",
    "        ,SPEC_VER\n",
    "        ,MCS_VER\n",
    "        ,PRDT_DTM\n",
    "        ,UDT_DTM\n",
    "        ,MRM_WGT\n",
    "    FROM DPPMES.LQLTTR147\n",
    "    WHERE 1=1\n",
    "        AND LOT_NO BETWEEN '{ref_date1}' AND '{ref_date2}'\n",
    "        -- AND LOT_NO = 202304160001\n",
    "        -- AND SPEC_CD = 'C1U36T020'\n",
    "        -- AND MC_CD = 'A1002'\n",
    "'''\n",
    "\n",
    "# MES 기준 : LWD841 - 원부재 투입 실적\n",
    "LQLTTR151 = f'''\n",
    "    SELECT \n",
    "        PLT_CD\n",
    "        ,SCAN_DTM\n",
    "        ,MC_CD\n",
    "        -- ,SCAN_RMTL_CD\n",
    "        ,PRDT_DATE\n",
    "        ,RMTL_TP_CD\n",
    "        ,RMTL_CD\n",
    "        ,LOT_NO\n",
    "        ,SPEC_CD\n",
    "        ,SPEC_VER\n",
    "        ,MCS_VER\n",
    "        ,WRK_FG\n",
    "        ,WRK_FG_NM\n",
    "        ,SCAN_BARCD_NO\n",
    "        ,WHS_LOT_NO\n",
    "        ,CMP_CD\n",
    "        ,CMP_NM    \n",
    "    FROM DPPMES.LQLTTR151\n",
    "    WHERE SCAN_DTM BETWEEN '{pre_ref_date1}' AND '{ref_date2}'\n",
    "'''\n",
    "\n",
    "# ODA TRXX_TRACE 데이터\n",
    "TRXX_TRACE = f'''\n",
    "    SELECT *\n",
    "    FROM BI_XV_TRXX_TRACE_SETA\n",
    "    WHERE PLN_DATE BETWEEN '{ref_date1}' AND '{ref_date2}'\n",
    "'''\n",
    "\n",
    "# MES기준 LQE060 : RPA 검사 데이터 \n",
    "LQLTTR268 = f'''\n",
    "    SELECT * \n",
    "    FROM DPPMES.LQLTTR268\n",
    "    WHERE MXG_PRDT_DATE BETWEEN '{ref_date1}' AND '{ref_date2}'\n",
    "'''\n",
    "\n",
    "# MES기준 LQE431 : BATCH 검사 데이터\n",
    "LQLTTR171 = f'''\n",
    "    SELECT *\n",
    "    FROM DPPMES.LQLTTR171\n",
    "    WHERE MXG_PRDT_DATE BETWEEN '{ref_date1}' AND '{ref_date2}'\n",
    "'''\n",
    "\n",
    "# MES기준 LQE461 : 고무물성(정밀) 검사 데이터\n",
    "LQLTTR177 = f'''\n",
    "    SELECT *\n",
    "    FROM DPPMES.LQLTTR177\n",
    "    WHERE MXG_PRDT_DATE BETWEEN '{ref_date1}' AND '{ref_date2}'\n",
    "'''\n",
    "    "
   ]
  },
  {
   "cell_type": "code",
   "execution_count": null,
   "metadata": {},
   "outputs": [],
   "source": [
    "\n",
    "# ODA TRXX_TRACE 데이터\n",
    "TRXX_TRACE = f'''\n",
    "    SELECT *\n",
    "    FROM BI_XV_TRXX_TRACE_SETA\n",
    "    WHERE PLN_DATE BETWEEN '{ref_date1}' AND '{ref_date2}'\n",
    "    AND PLT_CD = 'DP'\n",
    "'''"
   ]
  },
  {
   "cell_type": "code",
   "execution_count": null,
   "metadata": {
    "scrolled": true,
    "tags": []
   },
   "outputs": [],
   "source": [
    "df_lwd333_lqlttr147 = db_table(LQLTTR147,'sf')\n",
    "df_lwd307_lqlttr164 = db_table(LQLTTR164,'sf')\n",
    "df_lwd841_lqlttr151 = db_table(LQLTTR151,'sf')\n",
    "df_trxx_trace = db_table(TRXX_TRACE,'oda')\n",
    "\n",
    "df_lqe060_lqlttr268 = db_table(LQLTTR268,'sf')\n",
    "df_lqe431_lqlttr171 = db_table(LQLTTR171,'sf')\n",
    "df_lqe461_lqlttr177 = db_table(LQLTTR177,'sf')\n",
    "\n",
    "print (\n",
    "    f'''\n",
    "    lwd333 : df size = {df_lwd333_lqlttr147.shape} / 컴파운드 생산별 투입 원부재, 고무\n",
    "    lwd307 : df size = {df_lwd307_lqlttr164.shape} / 정련 운전 실적 / RUNSUMMARY\n",
    "    lwd841 : df size = {df_lwd841_lqlttr151.shape} / 원부재 투입 실적\n",
    "    trace : df size = {df_trxx_trace.shape} /trace 데이터\n",
    "\n",
    "    lqe060 : {df_lqe060_lqlttr268.shape} /RPA 검사 데이터\n",
    "    lqe431 : {df_lqe431_lqlttr171.shape} /BATCH 데이터\n",
    "    lqe461 : {df_lqe461_lqlttr177.shape} /고무 물성 정밀검사 데이터\n",
    "'''\n",
    ")"
   ]
  },
  {
   "cell_type": "code",
   "execution_count": null,
   "metadata": {
    "scrolled": true
   },
   "outputs": [],
   "source": [
    "# 스캔날짜 int로 바꾸기\n",
    "df_lwd841_lqlttr151['SCAN_DTM'] = pd.to_numeric(df_lwd841_lqlttr151['SCAN_DTM'], errors='coerce', downcast='integer')\n",
    "df_lwd841_lqlttr151.head()"
   ]
  },
  {
   "cell_type": "markdown",
   "metadata": {},
   "source": [
    "## GLP 출고 데이터 → 원료 투입 데이터 (841) 꼴로 강제 변형 후 합치기"
   ]
  },
  {
   "cell_type": "code",
   "execution_count": null,
   "metadata": {},
   "outputs": [],
   "source": [
    "dfrelease_path = r\"C:\\Users\\hanta\\OneDrive - HKNC\\Arena Messenger Download\\6. 출고이력 RAW_WM_P_L2141_2023-09-20 (2).csv\""
   ]
  },
  {
   "cell_type": "code",
   "execution_count": null,
   "metadata": {
    "scrolled": true
   },
   "outputs": [],
   "source": [
    "dfrelease = pd.read_csv(dfrelease_path)\n",
    "dfrelease.rename (columns = {'생성일자':'CREDAT' , \n",
    "                             '생성일시':'CREDATIM', \n",
    "                             'Material':'SKUKEY', \n",
    "                             'LOT':'LOTA02', \n",
    "                             \"업체\":\"LOTA01\", \n",
    "                             \"W/H\":\"SWERKS\"} , inplace = True)\n",
    "dfrelease.head()\n",
    "\n",
    "# 생성일자 = CREDAT\n",
    "# 생성일시 = CREDAT + CRETIM\n",
    "# Material = SKUKEY\n",
    "# LOT = LOTA02\n",
    "# 업체 = LOTA01\n",
    "# W/H = SWERKS"
   ]
  },
  {
   "cell_type": "code",
   "execution_count": null,
   "metadata": {
    "scrolled": true,
    "tags": []
   },
   "outputs": [],
   "source": [
    "# LOT 정보가 없는 원재료바코드투입실적 삭제\n",
    "\n",
    "print ( 'LOT 정보 없는 행 개수 :', len (df_lwd841_lqlttr151[df_lwd841_lqlttr151['WHS_LOT_NO']==' ']) )\n",
    "\n",
    "df_lwd841_lqlttr151 = df_lwd841_lqlttr151.drop ( df_lwd841_lqlttr151[df_lwd841_lqlttr151['WHS_LOT_NO']==' '].index)\n",
    "\n",
    "print ( 'LOT 정보 있는 행 개수 :', len (df_lwd841_lqlttr151) )"
   ]
  },
  {
   "cell_type": "code",
   "execution_count": null,
   "metadata": {},
   "outputs": [],
   "source": [
    "# 스캔날짜 int로 바꾸기\n",
    "dfrelease['CREDATIM'] = pd.to_numeric(dfrelease['CREDATIM'], errors='coerce', downcast='integer')"
   ]
  },
  {
   "cell_type": "code",
   "execution_count": null,
   "metadata": {
    "scrolled": true
   },
   "outputs": [],
   "source": [
    "# 원료 정련 투입 이력 →  강제로 LWD841꼴로 만들기 (설비란은 비워둠)\n",
    "df_lwd841_lqlttr151_release = df_lwd841_lqlttr151.copy()\n",
    "df_lwd841_lqlttr151_release = df_lwd841_lqlttr151_release.iloc[0:0]  # 내용 다 비우기\n",
    "\n",
    "\n",
    "df_lwd841_lqlttr151_release['SCAN_DTM'] =  dfrelease['CREDATIM']\n",
    "df_lwd841_lqlttr151_release['PLT_CD'] =  'DP'\n",
    "df_lwd841_lqlttr151_release['CMP_NM'] = dfrelease['업체명']\n",
    "\n",
    "df_lwd841_lqlttr151_release['CMP_CD']= dfrelease['LOTA01']\n",
    "df_lwd841_lqlttr151_release['RMTL_CD'] = dfrelease['SKUKEY']\n",
    "df_lwd841_lqlttr151_release['WHS_LOT_NO'] = dfrelease['LOTA02']\n",
    "\n",
    "# dflwd841_release['GR Date'] = dfrelease['Create Date']\n",
    "# dflwd841_release['작업자'] = dfrelease['Keynum']\n",
    "\n",
    "df_lwd841_lqlttr151_release.head()\n",
    "\n",
    "\n",
    "# 얘네는 정말 정련 출고 데이터라, 어느 설비 (믹싱기)로 들어가는 지 정보가 없음\n",
    "# 그래서 날짜 기준으로 넣을 예정 (같은 Material의 다른 LOT 출고 전까지, 이전 LOT 를 컴파운드에 넣는다는 가정)\n",
    "# 이미 매칭된 애들 (바코드 정보 남아있는 것) 제외하고 컴파운드에 매칭할 것\n"
   ]
  },
  {
   "cell_type": "code",
   "execution_count": null,
   "metadata": {},
   "outputs": [],
   "source": [
    "df_lwd841_lqlttr151_release[df_lwd841_lqlttr151_release['RMTL_CD'].str[:3]=='AAC']"
   ]
  },
  {
   "cell_type": "code",
   "execution_count": null,
   "metadata": {
    "scrolled": true
   },
   "outputs": [],
   "source": [
    "# GLP 출고 + MES LWD841 합치기\n",
    "\n",
    "lwd841tot = pd.concat([df_lwd841_lqlttr151_release, df_lwd841_lqlttr151], axis=0)\n",
    "lwd841tot.sort_values(by='SCAN_DTM')\n",
    "print(f\"\"\"\n",
    "    lwd841_lqlttr151 : {df_lwd841_lqlttr151.shape}\n",
    "    dfrelease : {df_lwd841_lqlttr151_release.shape}\n",
    "    joined(lwd841tot) : {lwd841tot.shape}\n",
    "    \"\"\")\n",
    "print(\"=\"*100)\n",
    "\n",
    "# 몇개 열만 추출\n",
    "selected_columns = ['PLT_CD', 'SCAN_DTM', 'MC_CD', 'PRDT_DATE', 'RMTL_CD','WHS_LOT_NO', 'CMP_CD', 'CMP_NM' ]\n",
    "df_selected_841 = lwd841tot[selected_columns]\n",
    "\n",
    "df_selected_841"
   ]
  },
  {
   "cell_type": "markdown",
   "metadata": {},
   "source": [
    "## 컴파운드 생산에 들어간 전체 원료-LOT 연결 (LWD333+LWD841)"
   ]
  },
  {
   "cell_type": "code",
   "execution_count": null,
   "metadata": {},
   "outputs": [],
   "source": [
    "df_lwd333_lqlttr147"
   ]
  },
  {
   "cell_type": "code",
   "execution_count": null,
   "metadata": {},
   "outputs": [],
   "source": [
    "df_lwd333_lqlttr147['UDT_DTM'].str[8:]"
   ]
  },
  {
   "cell_type": "code",
   "execution_count": null,
   "metadata": {},
   "outputs": [],
   "source": [
    "test = df_lwd333_lqlttr147[df_lwd333_lqlttr147['PRDT_DTM']!=df_lwd333_lqlttr147['UDT_DTM'].str[:8]]\n",
    "test[['PRDT_DTM','UDT_DTM']]"
   ]
  },
  {
   "cell_type": "code",
   "execution_count": null,
   "metadata": {},
   "outputs": [],
   "source": [
    "# 한 믹싱런에서는 같은 원료 들어갔다고 가정하고, PLT, MC, SPEC일치하면 RMTL 유니크하게 남겨두기\n",
    "\n",
    "df_lwd333_lqlttr147_uniqueRM = df_lwd333_lqlttr147.drop_duplicates(subset=['PLT_CD', 'LOT_NO','MC_CD', 'SPEC_CD', 'RMTL_CD'], keep='first')\n",
    "\n",
    "print(  \"생산때 들어간 원재료 + 이전고무 총 개수: {0}\".format(len(df_lwd333_lqlttr147_uniqueRM))  )\n",
    "\n",
    "df_lwd333_lqlttr147_uniqueRM\n"
   ]
  },
  {
   "cell_type": "markdown",
   "metadata": {},
   "source": [
    "#### 설비가 비어있는 것 (정련출고만 있는 경우) : 원부재, 공장 보고 합치기 (설비 안 봄)"
   ]
  },
  {
   "cell_type": "code",
   "execution_count": null,
   "metadata": {},
   "outputs": [],
   "source": [
    "df_lwd333_lqlttr147_uniqueRM"
   ]
  },
  {
   "cell_type": "code",
   "execution_count": null,
   "metadata": {},
   "outputs": [],
   "source": [
    "df_selected_841"
   ]
  },
  {
   "cell_type": "code",
   "execution_count": null,
   "metadata": {
    "scrolled": true
   },
   "outputs": [],
   "source": [
    "# 설비가 비어있는 것 (정련출고 only) 합치기\n",
    "c1 = df_selected_841['MC_CD'].isna()\n",
    "merged_run_release = pd.merge(df_lwd333_lqlttr147_uniqueRM, df_selected_841[c1], on=['RMTL_CD', \"PLT_CD\"],how='left')\n",
    "print(merged_run_release.shape, df_lwd333_lqlttr147_uniqueRM.shape, df_selected_841[c1].shape)\n",
    "print(\"-\"*100)\n",
    "\n",
    "merged_run_release['UDT_DTM']= pd.to_numeric(merged_run_release['UDT_DTM'], errors='coerce', downcast='integer')\n",
    "merged_run_release['SCAN_DTM']= pd.to_numeric(merged_run_release['SCAN_DTM'], errors='coerce', downcast='integer')\n",
    "\n",
    "\n",
    "\n",
    "# 투입 일자가 정련 시작보다 직전인 것 중에 가장 큰 값만 남기기\n",
    "filtered_df = merged_run_release[merged_run_release['SCAN_DTM'] <= merged_run_release['UDT_DTM']]\n",
    "max_d_row = filtered_df.groupby(['MC_CD_x', 'LOT_NO', 'SPEC_CD', 'RMTL_CD'])['SCAN_DTM'].idxmax()\n",
    "filtered_merged_run_release = filtered_df.loc[max_d_row]\n",
    "\n",
    "\n",
    "print(  \"정련출고로 합친 생산때 들어간 원재료: {0}\".format(len(filtered_merged_run_release))  )\n",
    "\n",
    "# filtered_merged_run_release\n",
    "\n"
   ]
  },
  {
   "cell_type": "code",
   "execution_count": null,
   "metadata": {},
   "outputs": [],
   "source": [
    "pd.set_option('display.max_rows',None)\n",
    "df_selected_841.loc[c1,'RMTL_CD'].str[:3].value_counts()"
   ]
  },
  {
   "cell_type": "code",
   "execution_count": null,
   "metadata": {},
   "outputs": [],
   "source": [
    "aac = df_lwd333_lqlttr147_uniqueRM['RMTL_CD'].str[:3]=='AAC'\n",
    "df_lwd333_lqlttr147_uniqueRM.loc[aac,'RMTL_CD'].value_counts().sort_index()"
   ]
  },
  {
   "cell_type": "code",
   "execution_count": null,
   "metadata": {},
   "outputs": [],
   "source": [
    "aac_2 = df_selected_841['RMTL_CD'].str[:3]=='AAC'\n",
    "df_selected_841.loc[c1 & aac_2,'RMTL_CD'].value_counts().sort_index()"
   ]
  },
  {
   "cell_type": "code",
   "execution_count": null,
   "metadata": {},
   "outputs": [],
   "source": [
    "pd.set_option('display.max_rows',30)\n",
    "filtered_df = merged_run_release[merged_run_release['SCAN_DTM'] <= merged_run_release['UDT_DTM']]\n",
    "max_d_row = filtered_df.groupby(['MC_CD_x', 'LOT_NO', 'SPEC_CD', 'RMTL_CD'])['SCAN_DTM'].idxmax()\n",
    "filtered_merged_run_release = filtered_df.loc[max_d_row]\n",
    "\n",
    "\n",
    "print(  \"정련출고로 합친 생산때 들어간 원재료: {0}\".format(len(filtered_merged_run_release))  )\n",
    "\n",
    "filtered_merged_run_release.head()\n"
   ]
  },
  {
   "cell_type": "code",
   "execution_count": null,
   "metadata": {},
   "outputs": [],
   "source": [
    "print(len(df_selected_841[df_selected_841['MC_CD'].isna()]))\n",
    "print(len(df_selected_841[~df_selected_841['MC_CD'].isna()]))\n",
    "\n",
    "filtered_merged_run_release[ (filtered_merged_run_release['RMTL_CD']=='AAC421A')].sort_values(by='SCAN_DTM')"
   ]
  },
  {
   "cell_type": "code",
   "execution_count": null,
   "metadata": {
    "scrolled": true
   },
   "outputs": [],
   "source": [
    "df_lwd333_lqlttr147_uniqueRM [ (df_lwd333_lqlttr147_uniqueRM['RMTL_CD'].str[:3]=='AAC')]"
   ]
  },
  {
   "cell_type": "code",
   "execution_count": null,
   "metadata": {},
   "outputs": [],
   "source": [
    "filtered_merged_run_release['RMTL_CD'].str[:3].value_counts()"
   ]
  },
  {
   "cell_type": "code",
   "execution_count": null,
   "metadata": {},
   "outputs": [],
   "source": [
    "# merged_run_release\n",
    "\n",
    "filtered_merged_run_release [ (filtered_merged_run_release['RMTL_CD'].str[:3]=='AAC')]"
   ]
  },
  {
   "cell_type": "markdown",
   "metadata": {},
   "source": [
    "#### 설비가 있는 것 (투입이력이 정확히 남은경우) : 원부재, 공장, 설비 보고 합치기"
   ]
  },
  {
   "cell_type": "code",
   "execution_count": null,
   "metadata": {},
   "outputs": [],
   "source": [
    "df_lwd333_lqlttr147_uniqueRM"
   ]
  },
  {
   "cell_type": "code",
   "execution_count": null,
   "metadata": {
    "scrolled": true
   },
   "outputs": [],
   "source": [
    "c2 = ~ df_selected_841['MC_CD'].isna()\n",
    "merged_run_input = pd.merge(df_lwd333_lqlttr147_uniqueRM, df_selected_841[c2], on=['RMTL_CD', 'MC_CD', \"PLT_CD\"],how='inner')\n",
    "\n",
    "\n",
    "# 투입 일자가 정련 시작보다 직전인 것 중에 가장 큰 값만 남기기\n",
    "filtered_df_2 = merged_run_release[merged_run_release['SCAN_DTM'] <= merged_run_release['UDT_DTM']]\n",
    "\n",
    "max_d_row_2 = filtered_df_2.groupby(['MC_CD_x', 'LOT_NO', 'SPEC_CD', 'RMTL_CD'])['SCAN_DTM'].idxmax()\n",
    "\n",
    "filtered_merged_run_input = filtered_df_2.loc[max_d_row_2]\n",
    "\n",
    "print(  \"원부재투입LOT로 합친 생산때 들어간 원재료: {0}\".format(len(filtered_merged_run_input))  )\n",
    "\n",
    "\n",
    "\n",
    "filtered_merged_run_input"
   ]
  },
  {
   "cell_type": "code",
   "execution_count": null,
   "metadata": {
    "scrolled": true
   },
   "outputs": [],
   "source": [
    "# 최종 합치기\n",
    "# 생산LOT 에 들어간 원료 연결한 최종본\n",
    "\n",
    "\n",
    "raw_mixing_fin = pd.concat([filtered_merged_run_release, filtered_merged_run_input], axis=0).drop_duplicates()\n",
    "\n",
    "del raw_mixing_fin['MC_CD_y']\n",
    "raw_mixing_fin = raw_mixing_fin.rename(columns={'MC_CD_x': 'MC_CD'})\n",
    "raw_mixing_fin.sort_values('LOT_NO')\n",
    "\n",
    "\n",
    "# C1, C2 등 스텝 떼어내고 뒤에 컴파운드 스펙만 있는 행 만들기\n",
    "raw_mixing_fin['SHORT_SPEC_CD'] = raw_mixing_fin['SPEC_CD'].str[2:]\n",
    "\n",
    "\n",
    "# 폴더 이름 : 데이터 조회 기간\n",
    "folder_name = 'Result_save/{0}_{1}'.format(ref_date1, ref_date2)\n",
    "\n",
    "# 폴더가 존재하지 않는 경우 생성\n",
    "if not os.path.exists(folder_name):\n",
    "    os.mkdir(folder_name)\n",
    "\n",
    "\n",
    "raw_mixing_fin.to_csv(\"Result_save/{0}_{1}/raw_mixing_fin {0}-{1}.csv\".format (ref_date1, ref_date2))\n",
    "raw_mixing_fin"
   ]
  },
  {
   "cell_type": "code",
   "execution_count": null,
   "metadata": {
    "scrolled": true
   },
   "outputs": [],
   "source": [
    "raw_mixing_fin [ (raw_mixing_fin['RMTL_CD'].str[:3]=='AAD')]"
   ]
  },
  {
   "cell_type": "code",
   "execution_count": null,
   "metadata": {},
   "outputs": [],
   "source": [
    "set (df_lwd333_lqlttr147  [df_lwd333_lqlttr147['SPEC_CD'].str[2:]=='B87S053']['RMTL_CD'])"
   ]
  },
  {
   "cell_type": "code",
   "execution_count": null,
   "metadata": {},
   "outputs": [],
   "source": [
    "raw_mixing_fin[raw_mixing_fin['RMTL_CD'].str[:3]=='AAC']"
   ]
  },
  {
   "cell_type": "code",
   "execution_count": null,
   "metadata": {
    "scrolled": true
   },
   "outputs": [],
   "source": [
    "set (raw_mixing_fin  [raw_mixing_fin['SPEC_CD'].str[2:]=='B87S053']['RMTL_CD'])"
   ]
  },
  {
   "cell_type": "markdown",
   "metadata": {},
   "source": [
    "## 동일 CQ LOT에 들어가는 것 다 합치기"
   ]
  },
  {
   "cell_type": "code",
   "execution_count": null,
   "metadata": {},
   "outputs": [],
   "source": [
    "df_lwd333_lqlttr147_uniqueRM[df_lwd333_lqlttr147_uniqueRM['LOT_NO']=='202301010003']"
   ]
  },
  {
   "cell_type": "code",
   "execution_count": null,
   "metadata": {},
   "outputs": [],
   "source": [
    "c1 = df_lwd333_lqlttr147_uniqueRM['LOT_NO']=='202301020003'\n",
    "c2 = df_lwd333_lqlttr147_uniqueRM['SPEC_CD']=='CQP90S043'\n",
    "df_lwd333_lqlttr147_uniqueRM[c1&c2]"
   ]
  },
  {
   "cell_type": "code",
   "execution_count": null,
   "metadata": {},
   "outputs": [],
   "source": [
    "# 모든 내용이 비어있는 열 삭제\n",
    "df_trxx_trace = df_trxx_trace.dropna(axis=1, how='all')"
   ]
  },
  {
   "cell_type": "code",
   "execution_count": null,
   "metadata": {
    "id": "Wy3L0_j1iuUe",
    "scrolled": true
   },
   "outputs": [],
   "source": [
    "pd.set_option('mode.chained_assignment',  None) # 경고 off\n",
    "\n",
    "# # 컬럼명 조정https://www.youtube.com/\n",
    "# raw_mixing_fin = raw_mixing_fin.rename(columns={'LOT_NO':'MIXING_NO'})\n",
    "\n",
    "# # 컬럼명 조정\n",
    "# raw_mixing_fin = raw_mixing_fin.rename(columns={'LOT_NO':'MixingRunNO'})\n",
    "\n",
    "\n",
    "df_trxx_trace['SHORT_SPEC_CD'] = df_trxx_trace['SPEC_CD'].str[2:]\n",
    "\n",
    "# CQ 컬럼으로만 돌리기\n",
    "df_trxx_trace_filtered = df_trxx_trace[ df_trxx_trace['SPEC_CD'].str[:2] == 'CQ']\n",
    "\n",
    "\n",
    "trace_input_mat = []\n",
    "# raw_mixing_fin2.set_index('Short Compd', inplace=True)\n",
    "\n",
    "\n",
    "# trace 데이터 한 줄씩 돌아가면서 한 CQ 컴파운드+믹싱런에 들어간 C1, C2, C2 로뜨 리스트로 만들기\n",
    "for i, row in df_trxx_trace_filtered.iterrows():\n",
    "    shtcompd = row['SHORT_SPEC_CD']\n",
    "    lotnum = row['LOT_NO']\n",
    "    mccd = row['MC_CD']\n",
    "\n",
    "    \n",
    "  # trace CQ 믹싱런 한개로 모아지 C1, C2, C3단계의 로뜨넘버 모으기  ①\n",
    "    step_lot = row[['LOT_NO', 'L1_LOT_NO', 'L2_LOT_NO', 'L3_LOT_NO', 'L4_LOT_NO', 'L5_LOT_NO']].tolist()\n",
    "    step_lot = np.array([str(x) for x in step_lot if x != None])\n",
    "\n",
    "  # trace CQ 믹싱런 한개에 있는 C1, C2, C3단계의 믹싱기 모으기  ②\n",
    "    mixer =  row[['MC_CD','L1_MC_CD', 'L2_MC_CD', 'L3_MC_CD', 'L4_MC_CD', 'L5_MC_CD']].tolist()\n",
    "    mixer = np.array([str(x) for x in mixer if x != None])\n",
    "\n",
    "\n",
    "  # 컴파운드 명이 같고, 믹싱런과 설비가 위에  ①, ② 리스트에 포함된다면, 해당 행 맨 오른쪽에 trace CQ 믹싱런, 설비 적기\n",
    "  # (그 행의 원료가 최종적으로 들어가는 CQ의 믹싱런넘버)\n",
    "    c1 = raw_mixing_fin['SHORT_SPEC_CD'] == shtcompd\n",
    "    c2 = raw_mixing_fin['LOT_NO'].isin(step_lot)  \n",
    "    c3 = raw_mixing_fin['MC_CD'].isin(mixer) \n",
    "    condition = c1&c2&c3\n",
    "\n",
    "    input_mat = raw_mixing_fin[condition]\n",
    "\n",
    "    input_mat['FIN_LOT_NO']=len(input_mat) * [lotnum]\n",
    "    input_mat['FIN_MC_CD']=len(input_mat) * [mccd]\n",
    "\n",
    "\n",
    "\n",
    "    if not input_mat.empty:   trace_input_mat.append(input_mat)\n",
    "\n",
    "trace_raw_runsum = pd.concat(trace_input_mat, ignore_index=True).drop_duplicates()\n",
    "trace_raw_runsum  # 이게 CQ단계에 투입된 모든 원료 조회하는 최종 csv 형태임.\n"
   ]
  },
  {
   "cell_type": "code",
   "execution_count": null,
   "metadata": {
    "scrolled": true
   },
   "outputs": [],
   "source": [
    "pd.set_option('display.max_rows', 30)\n",
    "# pd.reset_option('display.max_rows')\n",
    "\n",
    "c1 =  trace_raw_runsum['MC_CD']=='A1003'\n",
    "c2 = trace_raw_runsum['SPEC_CD']=='C1Y94S008'\n",
    "# c3 = trace_raw_runsum['RMTL_CD']=='AAA101A'\n",
    "c4 = trace_raw_runsum['LOT_NO']=='202301050001'\n",
    "\n",
    "trace_raw_runsum [ c1&c2&c4].sort_values(by = 'BTCH_NO')"
   ]
  },
  {
   "cell_type": "code",
   "execution_count": null,
   "metadata": {
    "id": "GzhG0zFlRG8C"
   },
   "outputs": [],
   "source": [
    "# 믹싱런 하나당 한 배치에 들어간 원료들 조회한거랑 같음\n",
    "\n",
    "trace_raw_runsum.to_csv(\"Result_save/{0}_{1}/trace_raw_runsum {0}-{1}.csv\".format (ref_date1, ref_date2))\n"
   ]
  },
  {
   "cell_type": "code",
   "execution_count": null,
   "metadata": {
    "colab": {
     "base_uri": "https://localhost:8080/",
     "height": 894
    },
    "id": "8kROL8xefKO8",
    "outputId": "288f4f43-6f2e-491e-cb65-6d463daae935"
   },
   "outputs": [],
   "source": [
    "pd.set_option('display.max_rows', 30)\n",
    "trace_raw_runsum [ ( trace_raw_runsum['SPEC_CD']=='C1Y94S008' ) & ( trace_raw_runsum['RMTL_CD']=='AAE515A' )   ]"
   ]
  },
  {
   "cell_type": "markdown",
   "metadata": {},
   "source": [
    "## 컴파운드 검사결과 합치기"
   ]
  },
  {
   "cell_type": "markdown",
   "metadata": {
    "id": "P0UgD_SyC0_8"
   },
   "source": [
    "#### ======= rpa랑 batch 검사 연결 ========"
   ]
  },
  {
   "cell_type": "code",
   "execution_count": null,
   "metadata": {
    "scrolled": true
   },
   "outputs": [],
   "source": [
    "# rpa검사\n",
    "df_lqe060_lqlttr268 = df_lqe060_lqlttr268.dropna(axis = 1, how = 'all')"
   ]
  },
  {
   "cell_type": "code",
   "execution_count": null,
   "metadata": {},
   "outputs": [],
   "source": [
    "c1 = df_lqe060_lqlttr268['SPEC_CD'] == 'CQP56S009'\n",
    "c2 = df_lqe060_lqlttr268['MXG_PRDT_DATE'] == '20230220'\n",
    "\n",
    "df_lqe060_lqlttr268[c1&c2].sort_values(by = 'BTCH_NO')"
   ]
  },
  {
   "cell_type": "code",
   "execution_count": null,
   "metadata": {
    "scrolled": true
   },
   "outputs": [],
   "source": [
    "# batch검사\n",
    "df_lqe431_lqlttr171 = df_lqe431_lqlttr171.dropna (axis = 1, how = 'all')"
   ]
  },
  {
   "cell_type": "code",
   "execution_count": null,
   "metadata": {
    "colab": {
     "base_uri": "https://localhost:8080/"
    },
    "id": "aJNu2KdOjgfS",
    "outputId": "714c971e-6196-4395-ed36-ccb368076a82",
    "scrolled": true
   },
   "outputs": [],
   "source": [
    "df_rpa_batch = pd.merge( df_lqe431_lqlttr171, df_lqe060_lqlttr268 , on=['PLT_CD', 'LOT_NO', 'SPEC_CD', 'MXG_MC_CD', 'BTCH_NO'], how='left')\n",
    "\n",
    "non_nan_rows = df_rpa_batch[df_rpa_batch['G_50'].notnull()]\n",
    "\n",
    "print('매칭된 rpa개수:' ,len(non_nan_rows))\n",
    "df_rpa_batch.rename(columns = {'MXG_PRDT_DATE_x' : 'MXG_PRDT_DATE'}, inplace = True)\n",
    "\n",
    "df_rpa_batch"
   ]
  },
  {
   "cell_type": "code",
   "execution_count": null,
   "metadata": {
    "scrolled": true
   },
   "outputs": [],
   "source": [
    "# # 통합\n",
    "# search_SPEC_CD = 'CQU33S098'\n",
    "# search_MXG_PRDT_DATE = '20230306'\n",
    "# search_MXG_MC_CD = 'A1015'\n",
    "\n",
    "# c1 = df_rpa_batch['SPEC_CD']== search_SPEC_CD\n",
    "# c2 = df_rpa_batch['MXG_PRDT_DATE']==search_MXG_PRDT_DATE\n",
    "# c3 = df_rpa_batch['MXG_MC_CD'] == search_MXG_MC_CD\n",
    "# c4 = df_rpa_batch['G_50'].notnull()\n",
    "\n",
    "# # rpa\n",
    "# d1 = df_lqe060_lqlttr268['SPEC_CD']== search_SPEC_CD\n",
    "# d2 = df_lqe060_lqlttr268['MXG_PRDT_DATE']== search_MXG_PRDT_DATE\n",
    "# d3 = df_lqe060_lqlttr268['MXG_MC_CD'] ==search_MXG_MC_CD\n",
    "\n",
    "# # batch\n",
    "# e1 = df_lqe431_lqlttr171['SPEC_CD']==search_SPEC_CD\n",
    "# e2 = df_lqe431_lqlttr171['MXG_PRDT_DATE']==search_MXG_PRDT_DATE\n",
    "# e3 = df_lqe431_lqlttr171['MXG_MC_CD'] == search_MXG_MC_CD\n",
    "\n",
    "# pd.set_option('display.max_rows', 30)"
   ]
  },
  {
   "cell_type": "code",
   "execution_count": null,
   "metadata": {},
   "outputs": [],
   "source": [
    "# df_rpa_batch[c1&c2&c3&c4].sort_values(by=['MXG_LOT_NO','BTCH_NO'])"
   ]
  },
  {
   "cell_type": "code",
   "execution_count": null,
   "metadata": {},
   "outputs": [],
   "source": [
    "# df_lqe431_lqlttr171[e1&e2&e3].sort_values(by=['MXG_LOT_NO','BTCH_NO'])"
   ]
  },
  {
   "cell_type": "code",
   "execution_count": null,
   "metadata": {},
   "outputs": [],
   "source": [
    "# df_lqe060_lqlttr268[d1&d2&d3].sort_values(by=['LOT_NO','BTCH_NO'])"
   ]
  },
  {
   "cell_type": "code",
   "execution_count": null,
   "metadata": {
    "id": "LB7kFe5JVK8e"
   },
   "outputs": [],
   "source": [
    "df_rpa_batch.to_csv(\"Result_save/{0}_{1}/df_rpa_batch {0}-{1}.csv\".format(ref_date1, ref_date2), encoding=\"cp949\")"
   ]
  },
  {
   "cell_type": "markdown",
   "metadata": {
    "id": "s6qvVl_IGUZL"
   },
   "source": [
    "#### ==========고무물성(BIS,MV, Rheo)결과도 연결하기==============="
   ]
  },
  {
   "cell_type": "code",
   "execution_count": null,
   "metadata": {},
   "outputs": [],
   "source": [
    "df_lqe461_lqlttr177 = df_lqe461_lqlttr177.dropna(axis = 1, how = 'all')"
   ]
  },
  {
   "cell_type": "code",
   "execution_count": null,
   "metadata": {},
   "outputs": [],
   "source": [
    "df_rpa_batch_property = pd.merge(df_rpa_batch, df_lqe461_lqlttr177, how='left', on=['MXG_PRDT_DATE', 'PLT_CD', 'SPEC_CD', 'MXG_MC_CD', 'BTCH_NO'])\n",
    "df_rpa_batch_property['SHORT_SPEC_CD'] = df_rpa_batch_property['SPEC_CD'].str[2:]\n",
    "\n",
    "\n",
    "df_rpa_batch_property"
   ]
  },
  {
   "cell_type": "code",
   "execution_count": null,
   "metadata": {
    "colab": {
     "base_uri": "https://localhost:8080/"
    },
    "id": "87VfBIqxQWtn",
    "outputId": "9a774155-1653-48fe-f7c8-c9c38cce9990"
   },
   "outputs": [],
   "source": [
    "non_nan_rows = df_rpa_batch_property[df_rpa_batch_property['IF_FG'].notnull()]\n",
    "\n",
    "print('고무물성 채워진 개수:',len( non_nan_rows))"
   ]
  },
  {
   "cell_type": "code",
   "execution_count": null,
   "metadata": {
    "colab": {
     "base_uri": "https://localhost:8080/"
    },
    "id": "kBoOHoc0TXEs",
    "outputId": "0805716f-67ab-4c9f-f7d6-29c71fab3395"
   },
   "outputs": [],
   "source": [
    "from tabulate import tabulate\n",
    "\n",
    "# 각 컬럼별 비어있는 행 수\n",
    "empty_row_counts = df_rpa_batch_property.isnull().sum()\n",
    "\n",
    "# 각 컬럼별 비어있는 비율\n",
    "empty_row_ratios = (empty_row_counts / len(df_rpa_batch_property))\n",
    "\n",
    "# 각 컬럼별 안비어있는 행 수\n",
    "non_empty_row_counts = df_rpa_batch_property.notnull().sum()\n",
    "\n",
    "\n",
    "# # 모든 행이 비어있는 컬럼 확인 및 리스트 생성\n",
    "# all_empty_columns = empty_row_ratios[empty_row_ratios == 1].index.tolist()\n",
    "\n",
    "# 결과 출력\n",
    "data_sum_result = pd.DataFrame({\n",
    "    '컬럼명': empty_row_counts.index,\n",
    "    '채워진 수': non_empty_row_counts.values,\n",
    "    'null 수': empty_row_counts.values,\n",
    "    'null 비율': empty_row_ratios.values\n",
    "})\n",
    "\n",
    "# 모든 행이 비어있는 컬럼 리스트 추가\n",
    "data_sum_result['ALL_NULL'] = data_sum_result['컬럼명'].isin(all_empty_columns)\n",
    "\n",
    "\n",
    "table = tabulate(data_sum_result, headers='keys', tablefmt='pretty', showindex=False)\n",
    "print(table)"
   ]
  },
  {
   "cell_type": "code",
   "execution_count": null,
   "metadata": {
    "id": "pYg06MGXUXV7"
   },
   "outputs": [],
   "source": [
    "df_rpa_batch_property = df_rpa_batch_property.dropna (axis = 1, how='all')\n",
    "df_rpa_batch_property = df_rpa_batch_property.drop_duplicates()\n",
    "\n",
    "\n",
    "df_rpa_batch_property.to_csv(\"Result_save/{0}_{1}/df_rpa_batch_property {0}-{1}.csv\".format(ref_date1, ref_date2))"
   ]
  },
  {
   "cell_type": "markdown",
   "metadata": {
    "id": "k5TgJbL_Yh3Y"
   },
   "source": [
    "## ====== 모든 데이터 다 잇기 ========\n"
   ]
  },
  {
   "cell_type": "code",
   "execution_count": null,
   "metadata": {},
   "outputs": [],
   "source": [
    "df_rpa_batch_property"
   ]
  },
  {
   "cell_type": "code",
   "execution_count": null,
   "metadata": {
    "colab": {
     "base_uri": "https://localhost:8080/",
     "height": 894
    },
    "id": "Dz9xLqY9Y3oa",
    "outputId": "d2c8bceb-81ac-448e-ccaa-7500b2cc76d9",
    "scrolled": true
   },
   "outputs": [],
   "source": [
    "trace_raw_runsum"
   ]
  },
  {
   "cell_type": "code",
   "execution_count": null,
   "metadata": {
    "colab": {
     "base_uri": "https://localhost:8080/",
     "height": 964
    },
    "id": "mNPH2zuEXXb5",
    "outputId": "6abc4242-4788-4103-ddf7-ca422d843ac5"
   },
   "outputs": [],
   "source": [
    "# 모든 배치, RPA 검사, 고무물성  -  업체 / LOT 연결하는 작업\n",
    "df_final = pd.merge( df_rpa_batch_property, trace_raw_runsum , left_on=['PLT_CD','MXG_MC_CD', 'MXG_LOT_NO', 'SPEC_CD'], right_on=['PLT_CD', 'FIN_MC_CD','FIN_LOT_NO', 'SPEC_CD'], how='left')\n",
    "\n",
    "# df_final = df_final.drop(['PLT_CD', '최종LOT_NO', 'SHORT_SPEC_CD', 'MC_CD'], axis = 1)\n",
    "df_final = df_final.drop_duplicates()\n",
    "\n",
    "\n",
    "df_final.rename(columns = {'LOT_NO_y':'PRE_LOT_NO'}, inplace = True)\n",
    "df_final.rename(columns = {'SPEC_CD_y':'PRE_SPEC_CD'}, inplace = True)\n",
    "df_final.rename(columns = {'MC_CD':'PRE_MC_CD'}, inplace = True)\n"
   ]
  },
  {
   "cell_type": "code",
   "execution_count": null,
   "metadata": {},
   "outputs": [],
   "source": [
    "df_final"
   ]
  },
  {
   "cell_type": "code",
   "execution_count": null,
   "metadata": {},
   "outputs": [],
   "source": [
    "c1 = df_final['MXG_LOT_NO'] == '202302120003'\n",
    "c2 = df_final['SPEC_CD'] == 'CQB87S053'\n",
    "# c3 = df_final['RMTL_CD'].str[:3] == 'AAS'\n",
    "\n",
    "\n",
    "set (df_final[c1&c2].sort_values(by='BTCH_NO_x')['RMTL_CD'].to_numpy())"
   ]
  },
  {
   "cell_type": "code",
   "execution_count": null,
   "metadata": {
    "colab": {
     "base_uri": "https://localhost:8080/"
    },
    "id": "i8LjiXmbbtbr",
    "outputId": "e2d6ad0d-8d20-4a19-fb56-9dfa917a3889"
   },
   "outputs": [],
   "source": [
    "# 각 컬럼별 비어있는 행 수\n",
    "empty_row_counts = df_final.isnull().sum()\n",
    "\n",
    "# 각 컬럼별 비어있는 비율\n",
    "empty_row_ratios = (empty_row_counts / len(df_final))\n",
    "\n",
    "# 각 컬럼별 안비어있는 행 수\n",
    "non_empty_row_counts = df_final.notnull().sum()\n",
    "\n",
    "\n",
    "# 모든 행이 비어있는 컬럼 확인 및 리스트 생성\n",
    "all_empty_columns = empty_row_ratios[empty_row_ratios == 1].index.tolist()\n",
    "\n",
    "# 결과 출력\n",
    "data_result = pd.DataFrame({\n",
    "    '컬럼명': empty_row_counts.index,\n",
    "    '채워진 수': non_empty_row_counts.values,\n",
    "    'null 수': empty_row_counts.values,\n",
    "    'null 비율': empty_row_ratios.values\n",
    "})\n",
    "\n",
    "\n",
    "# 모든 행이 비어있는 컬럼 리스트 삭제\n",
    "data_result['ALL_NULL'] = data_result['컬럼명'].isin(all_empty_columns)\n",
    "df_final = df_final.drop(columns=all_empty_columns)\n",
    "\n",
    "# 정보 중복된 컬럼 삭제\n",
    "duplicated_columns = ['FIN_LOT_NO', 'FIN_MC_CD',  'LOT_NO_x']\n",
    "df_final = df_final.drop(columns=duplicated_columns)\n",
    "\n",
    "# 원료정보 + CQ 로뜨정보 없는 행 삭제\n",
    "df_final = df.final.dropna(subset=['CMP_NM'])\n",
    "df_final = df_final.dropna(subset=['FIN_LOT_NO'])\n",
    "\n",
    "table = tabulate(data_result, headers='keys', tablefmt='pretty', showindex=False)\n",
    "print(table)\n",
    "df_final"
   ]
  },
  {
   "cell_type": "code",
   "execution_count": null,
   "metadata": {
    "colab": {
     "base_uri": "https://localhost:8080/",
     "height": 964
    },
    "id": "DOdKDPSxb60E",
    "outputId": "52725826-b782-4594-e9fe-911ccf691d86"
   },
   "outputs": [],
   "source": [
    "c1 = df_final['FIN_LOT_NO']=='202302060011'\n",
    "c2 = df_final['FIN_MC_CD']=='A1015'\n",
    "c3 = df_final['RMTL_CD']=='AAQ213A'\n",
    "\n",
    "df_final[c1&c2&c3]"
   ]
  },
  {
   "cell_type": "code",
   "execution_count": null,
   "metadata": {
    "id": "D_3ujD5Gri8x"
   },
   "outputs": [],
   "source": [
    "df_final.to_csv(\"Result_save/{0}_{1}/df_final {0}-{1}_2.csv\".format(ref_date1, ref_date2), encoding = 'utf-8-sig')"
   ]
  }
 ],
 "metadata": {
  "accelerator": "TPU",
  "colab": {
   "provenance": []
  },
  "kernelspec": {
   "display_name": "Python 3 (ipykernel)",
   "language": "python",
   "name": "python3"
  },
  "language_info": {
   "codemirror_mode": {
    "name": "ipython",
    "version": 3
   },
   "file_extension": ".py",
   "mimetype": "text/x-python",
   "name": "python",
   "nbconvert_exporter": "python",
   "pygments_lexer": "ipython3",
   "version": "3.11.5"
  }
 },
 "nbformat": 4,
 "nbformat_minor": 4
}
